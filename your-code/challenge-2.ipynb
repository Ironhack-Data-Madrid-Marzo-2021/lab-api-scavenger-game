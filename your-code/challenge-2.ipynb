{
 "cells": [
  {
   "cell_type": "markdown",
   "metadata": {},
   "source": [
    "# Challenge 2: Count Commits\n",
    "\n",
    "Count how many commits were made in the past week.\n",
    "\n",
    "Obtain all the commits made in the past week via API, which is a JSON array that contains multiple commit objects.\n",
    "\n",
    "Count how many commit objects are contained in the array."
   ]
  },
  {
   "cell_type": "markdown",
   "metadata": {},
   "source": [
    "⚠️ **Remember to limit your output before submission**."
   ]
  },
  {
   "cell_type": "code",
   "execution_count": 9,
   "metadata": {},
   "outputs": [],
   "source": [
    "import requests \n",
    "import json\n",
    "import os\n",
    "from dotenv import load_dotenv\n",
    "import pandas as pd\n",
    "from pandas import json_normalize\n",
    "import tweepy\n",
    "import time"
   ]
  },
  {
   "cell_type": "code",
   "execution_count": 18,
   "metadata": {},
   "outputs": [
    {
     "data": {
      "text/plain": [
       "True"
      ]
     },
     "execution_count": 18,
     "metadata": {},
     "output_type": "execute_result"
    }
   ],
   "source": [
    "load_dotenv()"
   ]
  },
  {
   "cell_type": "markdown",
   "metadata": {},
   "source": [
    "## Version 1 de la Respuesta"
   ]
  },
  {
   "cell_type": "code",
   "execution_count": 19,
   "metadata": {},
   "outputs": [],
   "source": [
    "def request_to_git(url):\n",
    "    api_key = os.getenv('token')\n",
    "    if not api_key:\n",
    "        raise ValueError(\"this isn't an api key\")\n",
    "    print(f'estoy haciendo un request a {url}')\n",
    "    \n",
    "    parametros = {'Authorization' : f'token {api_key}'}\n",
    "    response = requests.get (url = url, params = parametros).json()\n",
    "    \n",
    "    return response"
   ]
  },
  {
   "cell_type": "code",
   "execution_count": 20,
   "metadata": {},
   "outputs": [],
   "source": [
    "url_commits = 'https://api.github.com/repos/ironhack-datalabs/datamad1020-rev/commits"
   ]
  },
  {
   "cell_type": "code",
   "execution_count": 21,
   "metadata": {},
   "outputs": [
    {
     "name": "stdout",
     "output_type": "stream",
     "text": [
      "estoy haciendo un request a https://api.github.com/repos/ironhack-datalabs/datamad1020-rev/commits\n"
     ]
    }
   ],
   "source": [
    "commits_list1 = request_to_git(url_commits)"
   ]
  },
  {
   "cell_type": "code",
   "execution_count": 23,
   "metadata": {},
   "outputs": [
    {
     "data": {
      "text/plain": [
       "30"
      ]
     },
     "execution_count": 23,
     "metadata": {},
     "output_type": "execute_result"
    }
   ],
   "source": [
    "len(commits_list)"
   ]
  },
  {
   "cell_type": "code",
   "execution_count": 30,
   "metadata": {},
   "outputs": [
    {
     "data": {
      "text/html": [
       "<div>\n",
       "<style scoped>\n",
       "    .dataframe tbody tr th:only-of-type {\n",
       "        vertical-align: middle;\n",
       "    }\n",
       "\n",
       "    .dataframe tbody tr th {\n",
       "        vertical-align: top;\n",
       "    }\n",
       "\n",
       "    .dataframe thead th {\n",
       "        text-align: right;\n",
       "    }\n",
       "</style>\n",
       "<table border=\"1\" class=\"dataframe\">\n",
       "  <thead>\n",
       "    <tr style=\"text-align: right;\">\n",
       "      <th></th>\n",
       "      <th>commit.author.name</th>\n",
       "      <th>commit.author.email</th>\n",
       "      <th>commit.author.date</th>\n",
       "    </tr>\n",
       "  </thead>\n",
       "  <tbody>\n",
       "    <tr>\n",
       "      <th>0</th>\n",
       "      <td>Ras Soyungalgo</td>\n",
       "      <td>agalvezcorell@gmail.com</td>\n",
       "      <td>2021-03-24T18:55:39Z</td>\n",
       "    </tr>\n",
       "    <tr>\n",
       "      <th>1</th>\n",
       "      <td>Ras Soyungalgo</td>\n",
       "      <td>agalvezcorell@gmail.com</td>\n",
       "      <td>2021-01-26T13:00:09Z</td>\n",
       "    </tr>\n",
       "    <tr>\n",
       "      <th>2</th>\n",
       "      <td>“breogann”</td>\n",
       "      <td>fernandocostapradillo@gmail.com</td>\n",
       "      <td>2020-12-07T14:44:17Z</td>\n",
       "    </tr>\n",
       "    <tr>\n",
       "      <th>3</th>\n",
       "      <td>Ras Soyungalgo</td>\n",
       "      <td>agalvezcorell@gmail.com</td>\n",
       "      <td>2020-11-27T15:11:12Z</td>\n",
       "    </tr>\n",
       "    <tr>\n",
       "      <th>4</th>\n",
       "      <td>Ras Soyungalgo</td>\n",
       "      <td>agalvezcorell@gmail.com</td>\n",
       "      <td>2020-11-27T14:53:46Z</td>\n",
       "    </tr>\n",
       "  </tbody>\n",
       "</table>\n",
       "</div>"
      ],
      "text/plain": [
       "  commit.author.name              commit.author.email    commit.author.date\n",
       "0     Ras Soyungalgo          agalvezcorell@gmail.com  2021-03-24T18:55:39Z\n",
       "1     Ras Soyungalgo          agalvezcorell@gmail.com  2021-01-26T13:00:09Z\n",
       "2         “breogann”  fernandocostapradillo@gmail.com  2020-12-07T14:44:17Z\n",
       "3     Ras Soyungalgo          agalvezcorell@gmail.com  2020-11-27T15:11:12Z\n",
       "4     Ras Soyungalgo          agalvezcorell@gmail.com  2020-11-27T14:53:46Z"
      ]
     },
     "execution_count": 30,
     "metadata": {},
     "output_type": "execute_result"
    }
   ],
   "source": [
    "df1 = pd.json_normalize(commits_list)\n",
    "df2 = df1[['commit.author.name', 'commit.author.email', 'commit.author.date']]\n",
    "df2.head()"
   ]
  },
  {
   "cell_type": "code",
   "execution_count": 36,
   "metadata": {},
   "outputs": [
    {
     "data": {
      "text/plain": [
       "commit.author.name     object\n",
       "commit.author.email    object\n",
       "commit.author.date     object\n",
       "dtype: object"
      ]
     },
     "execution_count": 36,
     "metadata": {},
     "output_type": "execute_result"
    }
   ],
   "source": [
    "df2.dtypes"
   ]
  },
  {
   "cell_type": "code",
   "execution_count": 2,
   "metadata": {},
   "outputs": [],
   "source": [
    "# Example: print(variable[:10]) "
   ]
  },
  {
   "cell_type": "code",
   "execution_count": 13,
   "metadata": {},
   "outputs": [
    {
     "name": "stdout",
     "output_type": "stream",
     "text": [
      "HTTP/1.1 200 OK\r",
      "\r\n",
      "\u001b[1mServer\u001b[0m: GitHub.com\r",
      "\r\n",
      "\u001b[1mDate\u001b[0m: Thu, 08 Apr 2021 16:50:29 GMT\r",
      "\r\n",
      "\u001b[1mContent-Type\u001b[0m: application/json; charset=utf-8\r",
      "\r\n",
      "\u001b[1mCache-Control\u001b[0m: public, max-age=60, s-maxage=60\r",
      "\r\n",
      "\u001b[1mVary\u001b[0m: Accept, Accept-Encoding, Accept, X-Requested-With\r",
      "\r\n",
      "\u001b[1mETag\u001b[0m: W/\"ba2d49308c29bab3508f829de1aaef217480a9b3097f78b37c05f646d88eb1f1\"\r",
      "\r\n",
      "\u001b[1mLast-Modified\u001b[0m: Mon, 22 Mar 2021 14:27:47 GMT\r",
      "\r\n",
      "\u001b[1mX-GitHub-Media-Type\u001b[0m: github.v3; format=json\r",
      "\r\n",
      "\u001b[1mAccess-Control-Expose-Headers\u001b[0m: ETag, Link, Location, Retry-After, X-GitHub-OTP, X-RateLimit-Limit, X-RateLimit-Remaining, X-RateLimit-Used, X-RateLimit-Reset, X-OAuth-Scopes, X-Accepted-OAuth-Scopes, X-Poll-Interval, X-GitHub-Media-Type, Deprecation, Sunset\r",
      "\r\n",
      "\u001b[1mAccess-Control-Allow-Origin\u001b[0m: *\r",
      "\r\n",
      "\u001b[1mStrict-Transport-Security\u001b[0m: max-age=31536000; includeSubdomains; preload\r",
      "\r\n",
      "\u001b[1mX-Frame-Options\u001b[0m: deny\r",
      "\r\n",
      "\u001b[1mX-Content-Type-Options\u001b[0m: nosniff\r",
      "\r\n",
      "\u001b[1mX-XSS-Protection\u001b[0m: 0\r",
      "\r\n",
      "\u001b[1mReferrer-Policy\u001b[0m: origin-when-cross-origin, strict-origin-when-cross-origin\r",
      "\r\n",
      "\u001b[1mContent-Security-Policy\u001b[0m: default-src 'none'\r",
      "\r\n",
      "\u001b[1mX-RateLimit-Limit\u001b[0m: 60\r",
      "\r\n",
      "\u001b[1mX-RateLimit-Remaining\u001b[0m: 8\r",
      "\r\n",
      "\u001b[1mX-RateLimit-Reset\u001b[0m: 1617901147\r",
      "\r\n",
      "\u001b[1mX-RateLimit-Used\u001b[0m: 52\r",
      "\r\n",
      "\u001b[1mAccept-Ranges\u001b[0m: bytes\r",
      "\r\n",
      "\u001b[1mContent-Length\u001b[0m: 1319\r",
      "\r\n",
      "\u001b[1mX-GitHub-Request-Id\u001b[0m: B5FD:74D7:19D270:1AD7DA:606F3455\r",
      "\r\n",
      "\r",
      "\r\n"
     ]
    }
   ],
   "source": [
    "!curl -I https://api.github.com/users/octocat"
   ]
  },
  {
   "cell_type": "markdown",
   "metadata": {},
   "source": [
    "## Version 2 con Parametros"
   ]
  },
  {
   "cell_type": "code",
   "execution_count": 37,
   "metadata": {},
   "outputs": [
    {
     "name": "stdout",
     "output_type": "stream",
     "text": [
      "estoy haciendo un request a https://api.github.com/repos/ironhack-datalabs/datamad1020-rev/commits?since=2021-04-1\n"
     ]
    }
   ],
   "source": [
    "url2 = 'https://api.github.com/repos/ironhack-datalabs/datamad1020-rev/commits?since=2021-04-1'\n",
    "commits_list2 = request_to_git(url2)"
   ]
  },
  {
   "cell_type": "code",
   "execution_count": 38,
   "metadata": {},
   "outputs": [
    {
     "data": {
      "text/plain": [
       "[]"
      ]
     },
     "execution_count": 38,
     "metadata": {},
     "output_type": "execute_result"
    }
   ],
   "source": [
    "commits_list2"
   ]
  },
  {
   "cell_type": "code",
   "execution_count": null,
   "metadata": {},
   "outputs": [],
   "source": []
  }
 ],
 "metadata": {
  "kernelspec": {
   "display_name": "Python 3",
   "language": "python",
   "name": "python3"
  },
  "language_info": {
   "codemirror_mode": {
    "name": "ipython",
    "version": 3
   },
   "file_extension": ".py",
   "mimetype": "text/x-python",
   "name": "python",
   "nbconvert_exporter": "python",
   "pygments_lexer": "ipython3",
   "version": "3.8.5"
  },
  "toc": {
   "base_numbering": 1,
   "nav_menu": {},
   "number_sections": true,
   "sideBar": true,
   "skip_h1_title": true,
   "title_cell": "Table of Contents",
   "title_sidebar": "Contents",
   "toc_cell": false,
   "toc_position": {
    "height": "calc(100% - 180px)",
    "left": "10px",
    "top": "150px",
    "width": "288px"
   },
   "toc_section_display": true,
   "toc_window_display": true
  }
 },
 "nbformat": 4,
 "nbformat_minor": 5
}
