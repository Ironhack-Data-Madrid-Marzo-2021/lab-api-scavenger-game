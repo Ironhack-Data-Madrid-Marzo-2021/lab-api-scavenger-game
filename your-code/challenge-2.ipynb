{
 "cells": [
  {
   "cell_type": "markdown",
   "metadata": {},
   "source": [
    "# Challenge 2: Count Commits\n",
    "\n",
    "Count how many commits were made in the past week.\n",
    "\n",
    "Obtain all the commits made in the past week via API, which is a JSON array that contains multiple commit objects.\n",
    "\n",
    "Count how many commit objects are contained in the array."
   ]
  },
  {
   "cell_type": "markdown",
   "metadata": {},
   "source": [
    "⚠️ **Remember to limit your output before submission**."
   ]
  },
  {
   "cell_type": "code",
   "execution_count": 1,
   "metadata": {},
   "outputs": [],
   "source": [
    "import json\n",
    "import requests"
   ]
  },
  {
   "cell_type": "code",
   "execution_count": 2,
   "metadata": {},
   "outputs": [
    {
     "data": {
      "text/plain": [
       "True"
      ]
     },
     "execution_count": 2,
     "metadata": {},
     "output_type": "execute_result"
    }
   ],
   "source": [
    "import os\n",
    "from dotenv import load_dotenv\n",
    "load_dotenv()"
   ]
  },
  {
   "cell_type": "code",
   "execution_count": 3,
   "metadata": {},
   "outputs": [],
   "source": [
    "api_key = os.getenv(\"token\")\n",
    "url_hola = \"https://api.github.com/repos/ironhack-datalabs/datamad1020-rev\"\n",
    "parameters = {\"Authorization\" : (\"token {}\".format(api_key))}"
   ]
  },
  {
   "cell_type": "code",
   "execution_count": 4,
   "metadata": {},
   "outputs": [
    {
     "data": {
      "text/plain": [
       "{'archive_url': 'https://api.github.com/repos/ironhack-datalabs/datamad1020-rev/{archive_format}{/ref}',\n",
       " 'archived': False,\n",
       " 'assignees_url': 'https://api.github.com/repos/ironhack-datalabs/datamad1020-rev/assignees{/user}',\n",
       " 'blobs_url': 'https://api.github.com/repos/ironhack-datalabs/datamad1020-rev/git/blobs{/sha}',\n",
       " 'branches_url': 'https://api.github.com/repos/ironhack-datalabs/datamad1020-rev/branches{/branch}',\n",
       " 'clone_url': 'https://github.com/ironhack-datalabs/datamad1020-rev.git',\n",
       " 'collaborators_url': 'https://api.github.com/repos/ironhack-datalabs/datamad1020-rev/collaborators{/collaborator}',\n",
       " 'comments_url': 'https://api.github.com/repos/ironhack-datalabs/datamad1020-rev/comments{/number}',\n",
       " 'commits_url': 'https://api.github.com/repos/ironhack-datalabs/datamad1020-rev/commits{/sha}',\n",
       " 'compare_url': 'https://api.github.com/repos/ironhack-datalabs/datamad1020-rev/compare/{base}...{head}',\n",
       " 'contents_url': 'https://api.github.com/repos/ironhack-datalabs/datamad1020-rev/contents/{+path}',\n",
       " 'contributors_url': 'https://api.github.com/repos/ironhack-datalabs/datamad1020-rev/contributors',\n",
       " 'created_at': '2020-10-15T07:44:09Z',\n",
       " 'default_branch': 'master',\n",
       " 'deployments_url': 'https://api.github.com/repos/ironhack-datalabs/datamad1020-rev/deployments',\n",
       " 'description': None,\n",
       " 'disabled': False,\n",
       " 'downloads_url': 'https://api.github.com/repos/ironhack-datalabs/datamad1020-rev/downloads',\n",
       " 'events_url': 'https://api.github.com/repos/ironhack-datalabs/datamad1020-rev/events',\n",
       " 'fork': False,\n",
       " 'forks': 23,\n",
       " 'forks_count': 23,\n",
       " 'forks_url': 'https://api.github.com/repos/ironhack-datalabs/datamad1020-rev/forks',\n",
       " 'full_name': 'ironhack-datalabs/datamad1020-rev',\n",
       " 'git_commits_url': 'https://api.github.com/repos/ironhack-datalabs/datamad1020-rev/git/commits{/sha}',\n",
       " 'git_refs_url': 'https://api.github.com/repos/ironhack-datalabs/datamad1020-rev/git/refs{/sha}',\n",
       " 'git_tags_url': 'https://api.github.com/repos/ironhack-datalabs/datamad1020-rev/git/tags{/sha}',\n",
       " 'git_url': 'git://github.com/ironhack-datalabs/datamad1020-rev.git',\n",
       " 'has_downloads': True,\n",
       " 'has_issues': True,\n",
       " 'has_pages': False,\n",
       " 'has_projects': True,\n",
       " 'has_wiki': True,\n",
       " 'homepage': None,\n",
       " 'hooks_url': 'https://api.github.com/repos/ironhack-datalabs/datamad1020-rev/hooks',\n",
       " 'html_url': 'https://github.com/ironhack-datalabs/datamad1020-rev',\n",
       " 'id': 304248539,\n",
       " 'issue_comment_url': 'https://api.github.com/repos/ironhack-datalabs/datamad1020-rev/issues/comments{/number}',\n",
       " 'issue_events_url': 'https://api.github.com/repos/ironhack-datalabs/datamad1020-rev/issues/events{/number}',\n",
       " 'issues_url': 'https://api.github.com/repos/ironhack-datalabs/datamad1020-rev/issues{/number}',\n",
       " 'keys_url': 'https://api.github.com/repos/ironhack-datalabs/datamad1020-rev/keys{/key_id}',\n",
       " 'labels_url': 'https://api.github.com/repos/ironhack-datalabs/datamad1020-rev/labels{/name}',\n",
       " 'language': 'Jupyter Notebook',\n",
       " 'languages_url': 'https://api.github.com/repos/ironhack-datalabs/datamad1020-rev/languages',\n",
       " 'license': {'key': 'agpl-3.0',\n",
       "  'name': 'GNU Affero General Public License v3.0',\n",
       "  'node_id': 'MDc6TGljZW5zZTE=',\n",
       "  'spdx_id': 'AGPL-3.0',\n",
       "  'url': 'https://api.github.com/licenses/agpl-3.0'},\n",
       " 'merges_url': 'https://api.github.com/repos/ironhack-datalabs/datamad1020-rev/merges',\n",
       " 'milestones_url': 'https://api.github.com/repos/ironhack-datalabs/datamad1020-rev/milestones{/number}',\n",
       " 'mirror_url': None,\n",
       " 'name': 'datamad1020-rev',\n",
       " 'network_count': 23,\n",
       " 'node_id': 'MDEwOlJlcG9zaXRvcnkzMDQyNDg1Mzk=',\n",
       " 'notifications_url': 'https://api.github.com/repos/ironhack-datalabs/datamad1020-rev/notifications{?since,all,participating}',\n",
       " 'open_issues': 0,\n",
       " 'open_issues_count': 0,\n",
       " 'organization': {'avatar_url': 'https://avatars.githubusercontent.com/u/44225188?v=4',\n",
       "  'events_url': 'https://api.github.com/users/ironhack-datalabs/events{/privacy}',\n",
       "  'followers_url': 'https://api.github.com/users/ironhack-datalabs/followers',\n",
       "  'following_url': 'https://api.github.com/users/ironhack-datalabs/following{/other_user}',\n",
       "  'gists_url': 'https://api.github.com/users/ironhack-datalabs/gists{/gist_id}',\n",
       "  'gravatar_id': '',\n",
       "  'html_url': 'https://github.com/ironhack-datalabs',\n",
       "  'id': 44225188,\n",
       "  'login': 'ironhack-datalabs',\n",
       "  'node_id': 'MDEyOk9yZ2FuaXphdGlvbjQ0MjI1MTg4',\n",
       "  'organizations_url': 'https://api.github.com/users/ironhack-datalabs/orgs',\n",
       "  'received_events_url': 'https://api.github.com/users/ironhack-datalabs/received_events',\n",
       "  'repos_url': 'https://api.github.com/users/ironhack-datalabs/repos',\n",
       "  'site_admin': False,\n",
       "  'starred_url': 'https://api.github.com/users/ironhack-datalabs/starred{/owner}{/repo}',\n",
       "  'subscriptions_url': 'https://api.github.com/users/ironhack-datalabs/subscriptions',\n",
       "  'type': 'Organization',\n",
       "  'url': 'https://api.github.com/users/ironhack-datalabs'},\n",
       " 'owner': {'avatar_url': 'https://avatars.githubusercontent.com/u/44225188?v=4',\n",
       "  'events_url': 'https://api.github.com/users/ironhack-datalabs/events{/privacy}',\n",
       "  'followers_url': 'https://api.github.com/users/ironhack-datalabs/followers',\n",
       "  'following_url': 'https://api.github.com/users/ironhack-datalabs/following{/other_user}',\n",
       "  'gists_url': 'https://api.github.com/users/ironhack-datalabs/gists{/gist_id}',\n",
       "  'gravatar_id': '',\n",
       "  'html_url': 'https://github.com/ironhack-datalabs',\n",
       "  'id': 44225188,\n",
       "  'login': 'ironhack-datalabs',\n",
       "  'node_id': 'MDEyOk9yZ2FuaXphdGlvbjQ0MjI1MTg4',\n",
       "  'organizations_url': 'https://api.github.com/users/ironhack-datalabs/orgs',\n",
       "  'received_events_url': 'https://api.github.com/users/ironhack-datalabs/received_events',\n",
       "  'repos_url': 'https://api.github.com/users/ironhack-datalabs/repos',\n",
       "  'site_admin': False,\n",
       "  'starred_url': 'https://api.github.com/users/ironhack-datalabs/starred{/owner}{/repo}',\n",
       "  'subscriptions_url': 'https://api.github.com/users/ironhack-datalabs/subscriptions',\n",
       "  'type': 'Organization',\n",
       "  'url': 'https://api.github.com/users/ironhack-datalabs'},\n",
       " 'private': False,\n",
       " 'pulls_url': 'https://api.github.com/repos/ironhack-datalabs/datamad1020-rev/pulls{/number}',\n",
       " 'pushed_at': '2021-03-24T18:55:43Z',\n",
       " 'releases_url': 'https://api.github.com/repos/ironhack-datalabs/datamad1020-rev/releases{/id}',\n",
       " 'size': 164264,\n",
       " 'ssh_url': 'git@github.com:ironhack-datalabs/datamad1020-rev.git',\n",
       " 'stargazers_count': 1,\n",
       " 'stargazers_url': 'https://api.github.com/repos/ironhack-datalabs/datamad1020-rev/stargazers',\n",
       " 'statuses_url': 'https://api.github.com/repos/ironhack-datalabs/datamad1020-rev/statuses/{sha}',\n",
       " 'subscribers_count': 2,\n",
       " 'subscribers_url': 'https://api.github.com/repos/ironhack-datalabs/datamad1020-rev/subscribers',\n",
       " 'subscription_url': 'https://api.github.com/repos/ironhack-datalabs/datamad1020-rev/subscription',\n",
       " 'svn_url': 'https://github.com/ironhack-datalabs/datamad1020-rev',\n",
       " 'tags_url': 'https://api.github.com/repos/ironhack-datalabs/datamad1020-rev/tags',\n",
       " 'teams_url': 'https://api.github.com/repos/ironhack-datalabs/datamad1020-rev/teams',\n",
       " 'temp_clone_token': None,\n",
       " 'trees_url': 'https://api.github.com/repos/ironhack-datalabs/datamad1020-rev/git/trees{/sha}',\n",
       " 'updated_at': '2021-03-24T18:55:49Z',\n",
       " 'url': 'https://api.github.com/repos/ironhack-datalabs/datamad1020-rev',\n",
       " 'watchers': 1,\n",
       " 'watchers_count': 1}"
      ]
     },
     "execution_count": 4,
     "metadata": {},
     "output_type": "execute_result"
    }
   ],
   "source": [
    "response = requests.get(url = url_hola, params = parameters).json()\n",
    "response"
   ]
  },
  {
   "cell_type": "code",
   "execution_count": 57,
   "metadata": {},
   "outputs": [],
   "source": [
    "url_commits = \"https://api.github.com/repos/ironhack-datalabs/datamad1020-rev/commits?since=2021-04-01\""
   ]
  },
  {
   "cell_type": "code",
   "execution_count": 58,
   "metadata": {},
   "outputs": [
    {
     "data": {
      "text/plain": [
       "[]"
      ]
     },
     "execution_count": 58,
     "metadata": {},
     "output_type": "execute_result"
    }
   ],
   "source": [
    "commits = requests.get(url = url_commits).json()\n",
    "commits"
   ]
  },
  {
   "cell_type": "code",
   "execution_count": 59,
   "metadata": {},
   "outputs": [
    {
     "data": {
      "text/plain": [
       "0"
      ]
     },
     "execution_count": 59,
     "metadata": {},
     "output_type": "execute_result"
    }
   ],
   "source": [
    "len(commits)"
   ]
  }
 ],
 "metadata": {
  "kernelspec": {
   "display_name": "Python 3",
   "language": "python",
   "name": "python3"
  },
  "language_info": {
   "codemirror_mode": {
    "name": "ipython",
    "version": 3
   },
   "file_extension": ".py",
   "mimetype": "text/x-python",
   "name": "python",
   "nbconvert_exporter": "python",
   "pygments_lexer": "ipython3",
   "version": "3.6.9"
  },
  "toc": {
   "base_numbering": 1,
   "nav_menu": {},
   "number_sections": true,
   "sideBar": true,
   "skip_h1_title": true,
   "title_cell": "Table of Contents",
   "title_sidebar": "Contents",
   "toc_cell": false,
   "toc_position": {
    "height": "calc(100% - 180px)",
    "left": "10px",
    "top": "150px",
    "width": "288px"
   },
   "toc_section_display": true,
   "toc_window_display": true
  }
 },
 "nbformat": 4,
 "nbformat_minor": 5
}
