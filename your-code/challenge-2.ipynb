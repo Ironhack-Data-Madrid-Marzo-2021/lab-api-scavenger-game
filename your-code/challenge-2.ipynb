{
 "cells": [
  {
   "cell_type": "markdown",
   "id": "9b19f9c0",
   "metadata": {},
   "source": [
    "# Challenge 2: Count Commits\n",
    "\n",
    "Count how many commits were made in the past week.\n",
    "\n",
    "Obtain all the commits made in the past week via API, which is a JSON array that contains multiple commit objects.\n",
    "\n",
    "Count how many commit objects are contained in the array."
   ]
  },
  {
   "cell_type": "markdown",
   "id": "31893b7d",
   "metadata": {},
   "source": [
    "⚠️ **Remember to limit your output before submission**."
   ]
  },
  {
   "cell_type": "code",
   "execution_count": 3,
   "id": "8e1d4916",
   "metadata": {},
   "outputs": [],
   "source": [
    "import requests\n",
    "import os\n",
    "from datetime import timedelta\n",
    "from datetime import datetime"
   ]
  },
  {
   "cell_type": "code",
   "execution_count": 2,
   "id": "a70ca7ca",
   "metadata": {},
   "outputs": [
    {
     "data": {
      "text/plain": [
       "True"
      ]
     },
     "execution_count": 2,
     "metadata": {},
     "output_type": "execute_result"
    }
   ],
   "source": [
    "from dotenv import load_dotenv\n",
    "load_dotenv()"
   ]
  },
  {
   "cell_type": "code",
   "execution_count": 1,
   "id": "93dc5806",
   "metadata": {},
   "outputs": [],
   "source": [
    "#Your code"
   ]
  },
  {
   "cell_type": "code",
   "execution_count": 2,
   "id": "44203c5b",
   "metadata": {},
   "outputs": [],
   "source": [
    "# Example: print(variable[:10]) "
   ]
  },
  {
   "cell_type": "code",
   "execution_count": 16,
   "id": "b276dfa8",
   "metadata": {},
   "outputs": [],
   "source": [
    "api_key = os.getenv(\"token\")"
   ]
  },
  {
   "cell_type": "code",
   "execution_count": 18,
   "id": "32195ddf",
   "metadata": {},
   "outputs": [],
   "source": [
    "parameters = {\"Auhorization\" : f\"token {api_key}\"}"
   ]
  },
  {
   "cell_type": "code",
   "execution_count": 19,
   "id": "16094a12",
   "metadata": {},
   "outputs": [],
   "source": [
    "url_commit = \"https://api.github.com/repos/ironhack-datalabs/datamad1020-rev/commits\""
   ]
  },
  {
   "cell_type": "code",
   "execution_count": 21,
   "id": "8faa35f7",
   "metadata": {},
   "outputs": [],
   "source": [
    "def requestcommit(url):\n",
    "    token = os.getenv('token')\n",
    "    if not token:\n",
    "        raise ValueError ('no es un token')\n",
    "    print (f'Estoy haciendo request a {url}')\n",
    "    \n",
    "    params = {'Authorization' : f'token {api_key}'}\n",
    "    response = requests.get( url = url, params = params).json()\n",
    "    \n",
    "    return response"
   ]
  },
  {
   "cell_type": "code",
   "execution_count": 22,
   "id": "198af560",
   "metadata": {},
   "outputs": [
    {
     "name": "stdout",
     "output_type": "stream",
     "text": [
      "Estoy haciendo request a https://api.github.com/repos/ironhack-datalabs/datamad1020-rev/commits\n"
     ]
    },
    {
     "data": {
      "text/plain": [
       "{'sha': 'c7210b1bc673ccf7e98b420d1ef614afa70c199b',\n",
       " 'node_id': 'MDY6Q29tbWl0MzA0MjQ4NTM5OmM3MjEwYjFiYzY3M2NjZjdlOThiNDIwZDFlZjYxNGFmYTcwYzE5OWI=',\n",
       " 'commit': {'author': {'name': 'sheriffff',\n",
       "   'email': 'manuel.lopez.sheriff@gmail.com',\n",
       "   'date': '2020-11-05T23:04:53Z'},\n",
       "  'committer': {'name': 'sheriffff',\n",
       "   'email': 'manuel.lopez.sheriff@gmail.com',\n",
       "   'date': '2020-11-05T23:04:53Z'},\n",
       "  'message': 'scraping lab',\n",
       "  'tree': {'sha': '5e9806f23f44c85cf5fc0ef3913490cee471246c',\n",
       "   'url': 'https://api.github.com/repos/ironhack-datalabs/datamad1020-rev/git/trees/5e9806f23f44c85cf5fc0ef3913490cee471246c'},\n",
       "  'url': 'https://api.github.com/repos/ironhack-datalabs/datamad1020-rev/git/commits/c7210b1bc673ccf7e98b420d1ef614afa70c199b',\n",
       "  'comment_count': 0,\n",
       "  'verification': {'verified': False,\n",
       "   'reason': 'unsigned',\n",
       "   'signature': None,\n",
       "   'payload': None}},\n",
       " 'url': 'https://api.github.com/repos/ironhack-datalabs/datamad1020-rev/commits/c7210b1bc673ccf7e98b420d1ef614afa70c199b',\n",
       " 'html_url': 'https://github.com/ironhack-datalabs/datamad1020-rev/commit/c7210b1bc673ccf7e98b420d1ef614afa70c199b',\n",
       " 'comments_url': 'https://api.github.com/repos/ironhack-datalabs/datamad1020-rev/commits/c7210b1bc673ccf7e98b420d1ef614afa70c199b/comments',\n",
       " 'author': {'login': 'sheriffff',\n",
       "  'id': 23318929,\n",
       "  'node_id': 'MDQ6VXNlcjIzMzE4OTI5',\n",
       "  'avatar_url': 'https://avatars.githubusercontent.com/u/23318929?v=4',\n",
       "  'gravatar_id': '',\n",
       "  'url': 'https://api.github.com/users/sheriffff',\n",
       "  'html_url': 'https://github.com/sheriffff',\n",
       "  'followers_url': 'https://api.github.com/users/sheriffff/followers',\n",
       "  'following_url': 'https://api.github.com/users/sheriffff/following{/other_user}',\n",
       "  'gists_url': 'https://api.github.com/users/sheriffff/gists{/gist_id}',\n",
       "  'starred_url': 'https://api.github.com/users/sheriffff/starred{/owner}{/repo}',\n",
       "  'subscriptions_url': 'https://api.github.com/users/sheriffff/subscriptions',\n",
       "  'organizations_url': 'https://api.github.com/users/sheriffff/orgs',\n",
       "  'repos_url': 'https://api.github.com/users/sheriffff/repos',\n",
       "  'events_url': 'https://api.github.com/users/sheriffff/events{/privacy}',\n",
       "  'received_events_url': 'https://api.github.com/users/sheriffff/received_events',\n",
       "  'type': 'User',\n",
       "  'site_admin': False},\n",
       " 'committer': {'login': 'sheriffff',\n",
       "  'id': 23318929,\n",
       "  'node_id': 'MDQ6VXNlcjIzMzE4OTI5',\n",
       "  'avatar_url': 'https://avatars.githubusercontent.com/u/23318929?v=4',\n",
       "  'gravatar_id': '',\n",
       "  'url': 'https://api.github.com/users/sheriffff',\n",
       "  'html_url': 'https://github.com/sheriffff',\n",
       "  'followers_url': 'https://api.github.com/users/sheriffff/followers',\n",
       "  'following_url': 'https://api.github.com/users/sheriffff/following{/other_user}',\n",
       "  'gists_url': 'https://api.github.com/users/sheriffff/gists{/gist_id}',\n",
       "  'starred_url': 'https://api.github.com/users/sheriffff/starred{/owner}{/repo}',\n",
       "  'subscriptions_url': 'https://api.github.com/users/sheriffff/subscriptions',\n",
       "  'organizations_url': 'https://api.github.com/users/sheriffff/orgs',\n",
       "  'repos_url': 'https://api.github.com/users/sheriffff/repos',\n",
       "  'events_url': 'https://api.github.com/users/sheriffff/events{/privacy}',\n",
       "  'received_events_url': 'https://api.github.com/users/sheriffff/received_events',\n",
       "  'type': 'User',\n",
       "  'site_admin': False},\n",
       " 'parents': [{'sha': 'c25a3c01ae2d6d4c6515e0f9190aab6e56a5f140',\n",
       "   'url': 'https://api.github.com/repos/ironhack-datalabs/datamad1020-rev/commits/c25a3c01ae2d6d4c6515e0f9190aab6e56a5f140',\n",
       "   'html_url': 'https://github.com/ironhack-datalabs/datamad1020-rev/commit/c25a3c01ae2d6d4c6515e0f9190aab6e56a5f140'}]}"
      ]
     },
     "execution_count": 22,
     "metadata": {},
     "output_type": "execute_result"
    }
   ],
   "source": [
    "respuesta = requestcommit(url_commit)\n",
    "respuesta[15]"
   ]
  },
  {
   "cell_type": "code",
   "execution_count": 23,
   "id": "55941619",
   "metadata": {},
   "outputs": [
    {
     "data": {
      "text/plain": [
       "{'author': {'name': 'Ras Soyungalgo',\n",
       "  'email': 'agalvezcorell@gmail.com',\n",
       "  'date': '2021-03-24T18:55:39Z'},\n",
       " 'committer': {'name': 'Ras Soyungalgo',\n",
       "  'email': 'agalvezcorell@gmail.com',\n",
       "  'date': '2021-03-24T18:55:39Z'},\n",
       " 'message': 'Hola datamad Part Time ♥️',\n",
       " 'tree': {'sha': '872b8a740d18c3a9abe469f1df7a7c4b26016c48',\n",
       "  'url': 'https://api.github.com/repos/ironhack-datalabs/datamad1020-rev/git/trees/872b8a740d18c3a9abe469f1df7a7c4b26016c48'},\n",
       " 'url': 'https://api.github.com/repos/ironhack-datalabs/datamad1020-rev/git/commits/04bc51c0a75f3e6604fe7ac41da8b3c69919f7c3',\n",
       " 'comment_count': 0,\n",
       " 'verification': {'verified': False,\n",
       "  'reason': 'unsigned',\n",
       "  'signature': None,\n",
       "  'payload': None}}"
      ]
     },
     "execution_count": 23,
     "metadata": {},
     "output_type": "execute_result"
    }
   ],
   "source": [
    "respuesta[0]['commit']"
   ]
  },
  {
   "cell_type": "code",
   "execution_count": 24,
   "id": "015f939a",
   "metadata": {},
   "outputs": [
    {
     "data": {
      "text/plain": [
       "30"
      ]
     },
     "execution_count": 24,
     "metadata": {},
     "output_type": "execute_result"
    }
   ],
   "source": [
    "len(respuesta)"
   ]
  }
 ],
 "metadata": {
  "kernelspec": {
   "display_name": "Python 3",
   "language": "python",
   "name": "python3"
  },
  "language_info": {
   "codemirror_mode": {
    "name": "ipython",
    "version": 3
   },
   "file_extension": ".py",
   "mimetype": "text/x-python",
   "name": "python",
   "nbconvert_exporter": "python",
   "pygments_lexer": "ipython3",
   "version": "3.8.5"
  },
  "toc": {
   "base_numbering": 1,
   "nav_menu": {},
   "number_sections": true,
   "sideBar": true,
   "skip_h1_title": true,
   "title_cell": "Table of Contents",
   "title_sidebar": "Contents",
   "toc_cell": false,
   "toc_position": {
    "height": "calc(100% - 180px)",
    "left": "10px",
    "top": "150px",
    "width": "288px"
   },
   "toc_section_display": true,
   "toc_window_display": true
  }
 },
 "nbformat": 4,
 "nbformat_minor": 5
}
