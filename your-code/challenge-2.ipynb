{
 "cells": [
  {
   "cell_type": "markdown",
   "metadata": {},
   "source": [
    "# Challenge 2: Count Commits\n",
    "\n",
    "Count how many commits were made in the past week.\n",
    "\n",
    "Obtain all the commits made in the past week via API, which is a JSON array that contains multiple commit objects.\n",
    "\n",
    "Count how many commit objects are contained in the array."
   ]
  },
  {
   "cell_type": "markdown",
   "metadata": {},
   "source": [
    "⚠️ **Remember to limit your output before submission**."
   ]
  },
  {
   "cell_type": "code",
   "execution_count": 1,
   "metadata": {
    "code_folding": []
   },
   "outputs": [
    {
     "name": "stderr",
     "output_type": "stream",
     "text": [
      "/Users/julietastaryfurmanshalom/opt/anaconda3/lib/python3.8/site-packages/requests/__init__.py:89: RequestsDependencyWarning: urllib3 (1.26.4) or chardet (3.0.4) doesn't match a supported version!\n",
      "  warnings.warn(\"urllib3 ({}) or chardet ({}) doesn't match a supported \"\n"
     ]
    }
   ],
   "source": [
    "import json\n",
    "import requests"
   ]
  },
  {
   "cell_type": "code",
   "execution_count": 2,
   "metadata": {},
   "outputs": [
    {
     "data": {
      "text/plain": [
       "True"
      ]
     },
     "execution_count": 2,
     "metadata": {},
     "output_type": "execute_result"
    }
   ],
   "source": [
    "import os\n",
    "from dotenv import load_dotenv\n",
    "load_dotenv()"
   ]
  },
  {
   "cell_type": "code",
   "execution_count": 3,
   "metadata": {},
   "outputs": [],
   "source": [
    "api_key = os.getenv(\"token\")"
   ]
  },
  {
   "cell_type": "code",
   "execution_count": 4,
   "metadata": {},
   "outputs": [],
   "source": [
    "url =\"https://api.github.com/repos/ironhack-datalabs/datamad1020-rev\""
   ]
  },
  {
   "cell_type": "code",
   "execution_count": 5,
   "metadata": {},
   "outputs": [],
   "source": [
    "parameters  = {\"Authorization\" : f\"token {api_key}\"}"
   ]
  },
  {
   "cell_type": "code",
   "execution_count": 6,
   "metadata": {},
   "outputs": [],
   "source": [
    "response = requests.get (url =  url, params = parameters).json()"
   ]
  },
  {
   "cell_type": "code",
   "execution_count": 7,
   "metadata": {},
   "outputs": [
    {
     "data": {
      "text/plain": [
       "{'id': 304248539,\n",
       " 'node_id': 'MDEwOlJlcG9zaXRvcnkzMDQyNDg1Mzk=',\n",
       " 'name': 'datamad1020-rev',\n",
       " 'full_name': 'ironhack-datalabs/datamad1020-rev',\n",
       " 'private': False,\n",
       " 'owner': {'login': 'ironhack-datalabs',\n",
       "  'id': 44225188,\n",
       "  'node_id': 'MDEyOk9yZ2FuaXphdGlvbjQ0MjI1MTg4',\n",
       "  'avatar_url': 'https://avatars.githubusercontent.com/u/44225188?v=4',\n",
       "  'gravatar_id': '',\n",
       "  'url': 'https://api.github.com/users/ironhack-datalabs',\n",
       "  'html_url': 'https://github.com/ironhack-datalabs',\n",
       "  'followers_url': 'https://api.github.com/users/ironhack-datalabs/followers',\n",
       "  'following_url': 'https://api.github.com/users/ironhack-datalabs/following{/other_user}',\n",
       "  'gists_url': 'https://api.github.com/users/ironhack-datalabs/gists{/gist_id}',\n",
       "  'starred_url': 'https://api.github.com/users/ironhack-datalabs/starred{/owner}{/repo}',\n",
       "  'subscriptions_url': 'https://api.github.com/users/ironhack-datalabs/subscriptions',\n",
       "  'organizations_url': 'https://api.github.com/users/ironhack-datalabs/orgs',\n",
       "  'repos_url': 'https://api.github.com/users/ironhack-datalabs/repos',\n",
       "  'events_url': 'https://api.github.com/users/ironhack-datalabs/events{/privacy}',\n",
       "  'received_events_url': 'https://api.github.com/users/ironhack-datalabs/received_events',\n",
       "  'type': 'Organization',\n",
       "  'site_admin': False},\n",
       " 'html_url': 'https://github.com/ironhack-datalabs/datamad1020-rev',\n",
       " 'description': None,\n",
       " 'fork': False,\n",
       " 'url': 'https://api.github.com/repos/ironhack-datalabs/datamad1020-rev',\n",
       " 'forks_url': 'https://api.github.com/repos/ironhack-datalabs/datamad1020-rev/forks',\n",
       " 'keys_url': 'https://api.github.com/repos/ironhack-datalabs/datamad1020-rev/keys{/key_id}',\n",
       " 'collaborators_url': 'https://api.github.com/repos/ironhack-datalabs/datamad1020-rev/collaborators{/collaborator}',\n",
       " 'teams_url': 'https://api.github.com/repos/ironhack-datalabs/datamad1020-rev/teams',\n",
       " 'hooks_url': 'https://api.github.com/repos/ironhack-datalabs/datamad1020-rev/hooks',\n",
       " 'issue_events_url': 'https://api.github.com/repos/ironhack-datalabs/datamad1020-rev/issues/events{/number}',\n",
       " 'events_url': 'https://api.github.com/repos/ironhack-datalabs/datamad1020-rev/events',\n",
       " 'assignees_url': 'https://api.github.com/repos/ironhack-datalabs/datamad1020-rev/assignees{/user}',\n",
       " 'branches_url': 'https://api.github.com/repos/ironhack-datalabs/datamad1020-rev/branches{/branch}',\n",
       " 'tags_url': 'https://api.github.com/repos/ironhack-datalabs/datamad1020-rev/tags',\n",
       " 'blobs_url': 'https://api.github.com/repos/ironhack-datalabs/datamad1020-rev/git/blobs{/sha}',\n",
       " 'git_tags_url': 'https://api.github.com/repos/ironhack-datalabs/datamad1020-rev/git/tags{/sha}',\n",
       " 'git_refs_url': 'https://api.github.com/repos/ironhack-datalabs/datamad1020-rev/git/refs{/sha}',\n",
       " 'trees_url': 'https://api.github.com/repos/ironhack-datalabs/datamad1020-rev/git/trees{/sha}',\n",
       " 'statuses_url': 'https://api.github.com/repos/ironhack-datalabs/datamad1020-rev/statuses/{sha}',\n",
       " 'languages_url': 'https://api.github.com/repos/ironhack-datalabs/datamad1020-rev/languages',\n",
       " 'stargazers_url': 'https://api.github.com/repos/ironhack-datalabs/datamad1020-rev/stargazers',\n",
       " 'contributors_url': 'https://api.github.com/repos/ironhack-datalabs/datamad1020-rev/contributors',\n",
       " 'subscribers_url': 'https://api.github.com/repos/ironhack-datalabs/datamad1020-rev/subscribers',\n",
       " 'subscription_url': 'https://api.github.com/repos/ironhack-datalabs/datamad1020-rev/subscription',\n",
       " 'commits_url': 'https://api.github.com/repos/ironhack-datalabs/datamad1020-rev/commits{/sha}',\n",
       " 'git_commits_url': 'https://api.github.com/repos/ironhack-datalabs/datamad1020-rev/git/commits{/sha}',\n",
       " 'comments_url': 'https://api.github.com/repos/ironhack-datalabs/datamad1020-rev/comments{/number}',\n",
       " 'issue_comment_url': 'https://api.github.com/repos/ironhack-datalabs/datamad1020-rev/issues/comments{/number}',\n",
       " 'contents_url': 'https://api.github.com/repos/ironhack-datalabs/datamad1020-rev/contents/{+path}',\n",
       " 'compare_url': 'https://api.github.com/repos/ironhack-datalabs/datamad1020-rev/compare/{base}...{head}',\n",
       " 'merges_url': 'https://api.github.com/repos/ironhack-datalabs/datamad1020-rev/merges',\n",
       " 'archive_url': 'https://api.github.com/repos/ironhack-datalabs/datamad1020-rev/{archive_format}{/ref}',\n",
       " 'downloads_url': 'https://api.github.com/repos/ironhack-datalabs/datamad1020-rev/downloads',\n",
       " 'issues_url': 'https://api.github.com/repos/ironhack-datalabs/datamad1020-rev/issues{/number}',\n",
       " 'pulls_url': 'https://api.github.com/repos/ironhack-datalabs/datamad1020-rev/pulls{/number}',\n",
       " 'milestones_url': 'https://api.github.com/repos/ironhack-datalabs/datamad1020-rev/milestones{/number}',\n",
       " 'notifications_url': 'https://api.github.com/repos/ironhack-datalabs/datamad1020-rev/notifications{?since,all,participating}',\n",
       " 'labels_url': 'https://api.github.com/repos/ironhack-datalabs/datamad1020-rev/labels{/name}',\n",
       " 'releases_url': 'https://api.github.com/repos/ironhack-datalabs/datamad1020-rev/releases{/id}',\n",
       " 'deployments_url': 'https://api.github.com/repos/ironhack-datalabs/datamad1020-rev/deployments',\n",
       " 'created_at': '2020-10-15T07:44:09Z',\n",
       " 'updated_at': '2021-03-24T18:55:49Z',\n",
       " 'pushed_at': '2021-03-24T18:55:43Z',\n",
       " 'git_url': 'git://github.com/ironhack-datalabs/datamad1020-rev.git',\n",
       " 'ssh_url': 'git@github.com:ironhack-datalabs/datamad1020-rev.git',\n",
       " 'clone_url': 'https://github.com/ironhack-datalabs/datamad1020-rev.git',\n",
       " 'svn_url': 'https://github.com/ironhack-datalabs/datamad1020-rev',\n",
       " 'homepage': None,\n",
       " 'size': 164264,\n",
       " 'stargazers_count': 1,\n",
       " 'watchers_count': 1,\n",
       " 'language': 'Jupyter Notebook',\n",
       " 'has_issues': True,\n",
       " 'has_projects': True,\n",
       " 'has_downloads': True,\n",
       " 'has_wiki': True,\n",
       " 'has_pages': False,\n",
       " 'forks_count': 23,\n",
       " 'mirror_url': None,\n",
       " 'archived': False,\n",
       " 'disabled': False,\n",
       " 'open_issues_count': 0,\n",
       " 'license': {'key': 'agpl-3.0',\n",
       "  'name': 'GNU Affero General Public License v3.0',\n",
       "  'spdx_id': 'AGPL-3.0',\n",
       "  'url': 'https://api.github.com/licenses/agpl-3.0',\n",
       "  'node_id': 'MDc6TGljZW5zZTE='},\n",
       " 'forks': 23,\n",
       " 'open_issues': 0,\n",
       " 'watchers': 1,\n",
       " 'default_branch': 'master',\n",
       " 'temp_clone_token': None,\n",
       " 'organization': {'login': 'ironhack-datalabs',\n",
       "  'id': 44225188,\n",
       "  'node_id': 'MDEyOk9yZ2FuaXphdGlvbjQ0MjI1MTg4',\n",
       "  'avatar_url': 'https://avatars.githubusercontent.com/u/44225188?v=4',\n",
       "  'gravatar_id': '',\n",
       "  'url': 'https://api.github.com/users/ironhack-datalabs',\n",
       "  'html_url': 'https://github.com/ironhack-datalabs',\n",
       "  'followers_url': 'https://api.github.com/users/ironhack-datalabs/followers',\n",
       "  'following_url': 'https://api.github.com/users/ironhack-datalabs/following{/other_user}',\n",
       "  'gists_url': 'https://api.github.com/users/ironhack-datalabs/gists{/gist_id}',\n",
       "  'starred_url': 'https://api.github.com/users/ironhack-datalabs/starred{/owner}{/repo}',\n",
       "  'subscriptions_url': 'https://api.github.com/users/ironhack-datalabs/subscriptions',\n",
       "  'organizations_url': 'https://api.github.com/users/ironhack-datalabs/orgs',\n",
       "  'repos_url': 'https://api.github.com/users/ironhack-datalabs/repos',\n",
       "  'events_url': 'https://api.github.com/users/ironhack-datalabs/events{/privacy}',\n",
       "  'received_events_url': 'https://api.github.com/users/ironhack-datalabs/received_events',\n",
       "  'type': 'Organization',\n",
       "  'site_admin': False},\n",
       " 'network_count': 23,\n",
       " 'subscribers_count': 2}"
      ]
     },
     "execution_count": 7,
     "metadata": {},
     "output_type": "execute_result"
    }
   ],
   "source": [
    "response"
   ]
  },
  {
   "cell_type": "markdown",
   "metadata": {},
   "source": [
    "Como no funciona la URL que dan aquí, la agrego manualmente"
   ]
  },
  {
   "cell_type": "code",
   "execution_count": 32,
   "metadata": {},
   "outputs": [],
   "source": [
    "url_commits = 'https://api.github.com/repos/ironhack-datalabs/datamad1020-rev/commits?since=2021-03-29T00:00:00Z&until=2021-04-05T23:59:59Z'"
   ]
  },
  {
   "cell_type": "code",
   "execution_count": 33,
   "metadata": {},
   "outputs": [],
   "source": [
    "response_ = requests.get (url =  url_commits, params = parameters).json()"
   ]
  },
  {
   "cell_type": "code",
   "execution_count": 34,
   "metadata": {},
   "outputs": [
    {
     "data": {
      "text/plain": [
       "0"
      ]
     },
     "execution_count": 34,
     "metadata": {},
     "output_type": "execute_result"
    }
   ],
   "source": [
    "len(response_)"
   ]
  },
  {
   "cell_type": "markdown",
   "metadata": {},
   "source": [
    "Se han hecho 0 commits"
   ]
  },
  {
   "cell_type": "code",
   "execution_count": null,
   "metadata": {},
   "outputs": [],
   "source": []
  }
 ],
 "metadata": {
  "kernelspec": {
   "display_name": "Python 3",
   "language": "python",
   "name": "python3"
  },
  "language_info": {
   "codemirror_mode": {
    "name": "ipython",
    "version": 3
   },
   "file_extension": ".py",
   "mimetype": "text/x-python",
   "name": "python",
   "nbconvert_exporter": "python",
   "pygments_lexer": "ipython3",
   "version": "3.8.5"
  },
  "toc": {
   "base_numbering": 1,
   "nav_menu": {},
   "number_sections": true,
   "sideBar": true,
   "skip_h1_title": true,
   "title_cell": "Table of Contents",
   "title_sidebar": "Contents",
   "toc_cell": false,
   "toc_position": {
    "height": "calc(100% - 180px)",
    "left": "10px",
    "top": "150px",
    "width": "288px"
   },
   "toc_section_display": true,
   "toc_window_display": true
  }
 },
 "nbformat": 4,
 "nbformat_minor": 5
}
