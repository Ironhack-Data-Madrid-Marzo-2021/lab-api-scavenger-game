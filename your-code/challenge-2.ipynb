{
 "cells": [
  {
   "cell_type": "markdown",
   "metadata": {},
   "source": [
    "# Challenge 2: Count Commits\n",
    "\n",
    "Count how many commits were made in the past week.\n",
    "\n",
    "Obtain all the commits made in the past week via API, which is a JSON array that contains multiple commit objects.\n",
    "\n",
    "Count how many commit objects are contained in the array."
   ]
  },
  {
   "cell_type": "markdown",
   "metadata": {},
   "source": [
    "⚠️ **Remember to limit your output before submission**."
   ]
  },
  {
   "cell_type": "code",
   "execution_count": 1,
   "metadata": {},
   "outputs": [],
   "source": [
    "#Your code"
   ]
  },
  {
   "cell_type": "code",
   "execution_count": 2,
   "metadata": {},
   "outputs": [],
   "source": [
    "# Example: print(variable[:10]) "
   ]
  },
  {
   "cell_type": "code",
   "execution_count": 3,
   "metadata": {},
   "outputs": [],
   "source": [
    "import json\n",
    "import requests"
   ]
  },
  {
   "cell_type": "code",
   "execution_count": 4,
   "metadata": {},
   "outputs": [
    {
     "data": {
      "text/plain": [
       "True"
      ]
     },
     "execution_count": 4,
     "metadata": {},
     "output_type": "execute_result"
    }
   ],
   "source": [
    "import os\n",
    "from dotenv import load_dotenv\n",
    "load_dotenv()"
   ]
  },
  {
   "cell_type": "code",
   "execution_count": 5,
   "metadata": {},
   "outputs": [],
   "source": [
    "url_commits=\"https://api.github.com/repos/ironhack-datalabs/datamad1020-rev/commits?since='2020-04-01T00:00:50+00:00'\""
   ]
  },
  {
   "cell_type": "code",
   "execution_count": 6,
   "metadata": {},
   "outputs": [
    {
     "data": {
      "text/plain": [
       "\"https://api.github.com/repos/ironhack-datalabs/datamad1020-rev/commits?since='2020-04-01T00:00:50+00:00'\""
      ]
     },
     "execution_count": 6,
     "metadata": {},
     "output_type": "execute_result"
    }
   ],
   "source": [
    "url_commits"
   ]
  },
  {
   "cell_type": "code",
   "execution_count": 7,
   "metadata": {},
   "outputs": [],
   "source": [
    "def requestGithub(url):\n",
    "    api_key= os.getenv(\"token\")\n",
    "    if not api_key:\n",
    "        raise ValueError (\"Need token, check your env\")\n",
    "    print(f\"Im doing a request for: {url} \")\n",
    "    \n",
    "    parameters = {\"Authorization\" : f\"token {api_key}\"}\n",
    "    response = requests.get (url =  url_commits, params = parameters).json()\n",
    "    return response"
   ]
  },
  {
   "cell_type": "code",
   "execution_count": 8,
   "metadata": {
    "scrolled": true
   },
   "outputs": [
    {
     "name": "stdout",
     "output_type": "stream",
     "text": [
      "Im doing a request for: https://api.github.com/repos/ironhack-datalabs/datamad1020-rev/commits?since='2020-04-01T00:00:50+00:00' \n"
     ]
    }
   ],
   "source": [
    "commits_lw=requestGithub(url_commits)"
   ]
  },
  {
   "cell_type": "code",
   "execution_count": 10,
   "metadata": {},
   "outputs": [
    {
     "data": {
      "text/plain": [
       "{'sha': '04bc51c0a75f3e6604fe7ac41da8b3c69919f7c3',\n",
       " 'node_id': 'MDY6Q29tbWl0MzA0MjQ4NTM5OjA0YmM1MWMwYTc1ZjNlNjYwNGZlN2FjNDFkYThiM2M2OTkxOWY3YzM=',\n",
       " 'commit': {'author': {'name': 'Ras Soyungalgo',\n",
       "   'email': 'agalvezcorell@gmail.com',\n",
       "   'date': '2021-03-24T18:55:39Z'},\n",
       "  'committer': {'name': 'Ras Soyungalgo',\n",
       "   'email': 'agalvezcorell@gmail.com',\n",
       "   'date': '2021-03-24T18:55:39Z'},\n",
       "  'message': 'Hola datamad Part Time ♥️',\n",
       "  'tree': {'sha': '872b8a740d18c3a9abe469f1df7a7c4b26016c48',\n",
       "   'url': 'https://api.github.com/repos/ironhack-datalabs/datamad1020-rev/git/trees/872b8a740d18c3a9abe469f1df7a7c4b26016c48'},\n",
       "  'url': 'https://api.github.com/repos/ironhack-datalabs/datamad1020-rev/git/commits/04bc51c0a75f3e6604fe7ac41da8b3c69919f7c3',\n",
       "  'comment_count': 0,\n",
       "  'verification': {'verified': False,\n",
       "   'reason': 'unsigned',\n",
       "   'signature': None,\n",
       "   'payload': None}},\n",
       " 'url': 'https://api.github.com/repos/ironhack-datalabs/datamad1020-rev/commits/04bc51c0a75f3e6604fe7ac41da8b3c69919f7c3',\n",
       " 'html_url': 'https://github.com/ironhack-datalabs/datamad1020-rev/commit/04bc51c0a75f3e6604fe7ac41da8b3c69919f7c3',\n",
       " 'comments_url': 'https://api.github.com/repos/ironhack-datalabs/datamad1020-rev/commits/04bc51c0a75f3e6604fe7ac41da8b3c69919f7c3/comments',\n",
       " 'author': {'login': 'agalvezcorell',\n",
       "  'id': 57899051,\n",
       "  'node_id': 'MDQ6VXNlcjU3ODk5MDUx',\n",
       "  'avatar_url': 'https://avatars.githubusercontent.com/u/57899051?v=4',\n",
       "  'gravatar_id': '',\n",
       "  'url': 'https://api.github.com/users/agalvezcorell',\n",
       "  'html_url': 'https://github.com/agalvezcorell',\n",
       "  'followers_url': 'https://api.github.com/users/agalvezcorell/followers',\n",
       "  'following_url': 'https://api.github.com/users/agalvezcorell/following{/other_user}',\n",
       "  'gists_url': 'https://api.github.com/users/agalvezcorell/gists{/gist_id}',\n",
       "  'starred_url': 'https://api.github.com/users/agalvezcorell/starred{/owner}{/repo}',\n",
       "  'subscriptions_url': 'https://api.github.com/users/agalvezcorell/subscriptions',\n",
       "  'organizations_url': 'https://api.github.com/users/agalvezcorell/orgs',\n",
       "  'repos_url': 'https://api.github.com/users/agalvezcorell/repos',\n",
       "  'events_url': 'https://api.github.com/users/agalvezcorell/events{/privacy}',\n",
       "  'received_events_url': 'https://api.github.com/users/agalvezcorell/received_events',\n",
       "  'type': 'User',\n",
       "  'site_admin': False},\n",
       " 'committer': {'login': 'agalvezcorell',\n",
       "  'id': 57899051,\n",
       "  'node_id': 'MDQ6VXNlcjU3ODk5MDUx',\n",
       "  'avatar_url': 'https://avatars.githubusercontent.com/u/57899051?v=4',\n",
       "  'gravatar_id': '',\n",
       "  'url': 'https://api.github.com/users/agalvezcorell',\n",
       "  'html_url': 'https://github.com/agalvezcorell',\n",
       "  'followers_url': 'https://api.github.com/users/agalvezcorell/followers',\n",
       "  'following_url': 'https://api.github.com/users/agalvezcorell/following{/other_user}',\n",
       "  'gists_url': 'https://api.github.com/users/agalvezcorell/gists{/gist_id}',\n",
       "  'starred_url': 'https://api.github.com/users/agalvezcorell/starred{/owner}{/repo}',\n",
       "  'subscriptions_url': 'https://api.github.com/users/agalvezcorell/subscriptions',\n",
       "  'organizations_url': 'https://api.github.com/users/agalvezcorell/orgs',\n",
       "  'repos_url': 'https://api.github.com/users/agalvezcorell/repos',\n",
       "  'events_url': 'https://api.github.com/users/agalvezcorell/events{/privacy}',\n",
       "  'received_events_url': 'https://api.github.com/users/agalvezcorell/received_events',\n",
       "  'type': 'User',\n",
       "  'site_admin': False},\n",
       " 'parents': [{'sha': '62ccb107c540872cb332b10768b890040fb50c1f',\n",
       "   'url': 'https://api.github.com/repos/ironhack-datalabs/datamad1020-rev/commits/62ccb107c540872cb332b10768b890040fb50c1f',\n",
       "   'html_url': 'https://github.com/ironhack-datalabs/datamad1020-rev/commit/62ccb107c540872cb332b10768b890040fb50c1f'}]}"
      ]
     },
     "execution_count": 10,
     "metadata": {},
     "output_type": "execute_result"
    }
   ],
   "source": [
    "commits_lw[0]"
   ]
  },
  {
   "cell_type": "code",
   "execution_count": 11,
   "metadata": {},
   "outputs": [],
   "source": [
    "commits = [ct[\"commit\"] for  ct in commits_lw]"
   ]
  },
  {
   "cell_type": "code",
   "execution_count": 13,
   "metadata": {},
   "outputs": [
    {
     "data": {
      "text/plain": [
       "30"
      ]
     },
     "execution_count": 13,
     "metadata": {},
     "output_type": "execute_result"
    }
   ],
   "source": [
    "len(commits)"
   ]
  }
 ],
 "metadata": {
  "kernelspec": {
   "display_name": "ironhack",
   "language": "python",
   "name": "ironhack"
  },
  "language_info": {
   "codemirror_mode": {
    "name": "ipython",
    "version": 3
   },
   "file_extension": ".py",
   "mimetype": "text/x-python",
   "name": "python",
   "nbconvert_exporter": "python",
   "pygments_lexer": "ipython3",
   "version": "3.8.5"
  },
  "toc": {
   "base_numbering": 1,
   "nav_menu": {},
   "number_sections": true,
   "sideBar": true,
   "skip_h1_title": true,
   "title_cell": "Table of Contents",
   "title_sidebar": "Contents",
   "toc_cell": false,
   "toc_position": {
    "height": "calc(100% - 180px)",
    "left": "10px",
    "top": "150px",
    "width": "288px"
   },
   "toc_section_display": true,
   "toc_window_display": true
  }
 },
 "nbformat": 4,
 "nbformat_minor": 5
}
