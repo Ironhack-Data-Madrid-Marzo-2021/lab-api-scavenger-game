{
 "cells": [
  {
   "cell_type": "markdown",
   "metadata": {},
   "source": [
    "# Challenge 2: Count Commits\n",
    "\n",
    "Count how many commits were made in the past week.\n",
    "\n",
    "Obtain all the commits made in the past week via API, which is a JSON array that contains multiple commit objects.\n",
    "\n",
    "Count how many commit objects are contained in the array."
   ]
  },
  {
   "cell_type": "markdown",
   "metadata": {},
   "source": [
    "⚠️ **Remember to limit your output before submission**."
   ]
  },
  {
   "cell_type": "code",
   "execution_count": 18,
   "metadata": {},
   "outputs": [],
   "source": [
    "import json\n",
    "import requests\n",
    "import pandas as pd"
   ]
  },
  {
   "cell_type": "code",
   "execution_count": 19,
   "metadata": {},
   "outputs": [
    {
     "data": {
      "text/plain": [
       "True"
      ]
     },
     "execution_count": 19,
     "metadata": {},
     "output_type": "execute_result"
    }
   ],
   "source": [
    "import os\n",
    "from dotenv import load_dotenv\n",
    "load_dotenv()"
   ]
  },
  {
   "cell_type": "code",
   "execution_count": 20,
   "metadata": {},
   "outputs": [],
   "source": [
    "api_key = os.getenv(\"token\")"
   ]
  },
  {
   "cell_type": "code",
   "execution_count": null,
   "metadata": {},
   "outputs": [],
   "source": [
    "?since=2021-04-01"
   ]
  },
  {
   "cell_type": "code",
   "execution_count": 76,
   "metadata": {},
   "outputs": [],
   "source": [
    "url_fork = 'https://api.github.com/repos/ironhack-datalabs/datamad1020-rev/commits?since=2021-01-04T00:00:00Z&until=2021-07-04T23:59:59Z'"
   ]
  },
  {
   "cell_type": "code",
   "execution_count": 77,
   "metadata": {},
   "outputs": [],
   "source": [
    "parametros  = {\"Authorization\" : f\"token {api_key}, \"}"
   ]
  },
  {
   "cell_type": "code",
   "execution_count": 78,
   "metadata": {},
   "outputs": [
    {
     "data": {
      "text/plain": [
       "[{'sha': '04bc51c0a75f3e6604fe7ac41da8b3c69919f7c3',\n",
       "  'node_id': 'MDY6Q29tbWl0MzA0MjQ4NTM5OjA0YmM1MWMwYTc1ZjNlNjYwNGZlN2FjNDFkYThiM2M2OTkxOWY3YzM=',\n",
       "  'commit': {'author': {'name': 'Ras Soyungalgo',\n",
       "    'email': 'agalvezcorell@gmail.com',\n",
       "    'date': '2021-03-24T18:55:39Z'},\n",
       "   'committer': {'name': 'Ras Soyungalgo',\n",
       "    'email': 'agalvezcorell@gmail.com',\n",
       "    'date': '2021-03-24T18:55:39Z'},\n",
       "   'message': 'Hola datamad Part Time ♥️',\n",
       "   'tree': {'sha': '872b8a740d18c3a9abe469f1df7a7c4b26016c48',\n",
       "    'url': 'https://api.github.com/repos/ironhack-datalabs/datamad1020-rev/git/trees/872b8a740d18c3a9abe469f1df7a7c4b26016c48'},\n",
       "   'url': 'https://api.github.com/repos/ironhack-datalabs/datamad1020-rev/git/commits/04bc51c0a75f3e6604fe7ac41da8b3c69919f7c3',\n",
       "   'comment_count': 0,\n",
       "   'verification': {'verified': False,\n",
       "    'reason': 'unsigned',\n",
       "    'signature': None,\n",
       "    'payload': None}},\n",
       "  'url': 'https://api.github.com/repos/ironhack-datalabs/datamad1020-rev/commits/04bc51c0a75f3e6604fe7ac41da8b3c69919f7c3',\n",
       "  'html_url': 'https://github.com/ironhack-datalabs/datamad1020-rev/commit/04bc51c0a75f3e6604fe7ac41da8b3c69919f7c3',\n",
       "  'comments_url': 'https://api.github.com/repos/ironhack-datalabs/datamad1020-rev/commits/04bc51c0a75f3e6604fe7ac41da8b3c69919f7c3/comments',\n",
       "  'author': {'login': 'agalvezcorell',\n",
       "   'id': 57899051,\n",
       "   'node_id': 'MDQ6VXNlcjU3ODk5MDUx',\n",
       "   'avatar_url': 'https://avatars.githubusercontent.com/u/57899051?v=4',\n",
       "   'gravatar_id': '',\n",
       "   'url': 'https://api.github.com/users/agalvezcorell',\n",
       "   'html_url': 'https://github.com/agalvezcorell',\n",
       "   'followers_url': 'https://api.github.com/users/agalvezcorell/followers',\n",
       "   'following_url': 'https://api.github.com/users/agalvezcorell/following{/other_user}',\n",
       "   'gists_url': 'https://api.github.com/users/agalvezcorell/gists{/gist_id}',\n",
       "   'starred_url': 'https://api.github.com/users/agalvezcorell/starred{/owner}{/repo}',\n",
       "   'subscriptions_url': 'https://api.github.com/users/agalvezcorell/subscriptions',\n",
       "   'organizations_url': 'https://api.github.com/users/agalvezcorell/orgs',\n",
       "   'repos_url': 'https://api.github.com/users/agalvezcorell/repos',\n",
       "   'events_url': 'https://api.github.com/users/agalvezcorell/events{/privacy}',\n",
       "   'received_events_url': 'https://api.github.com/users/agalvezcorell/received_events',\n",
       "   'type': 'User',\n",
       "   'site_admin': False},\n",
       "  'committer': {'login': 'agalvezcorell',\n",
       "   'id': 57899051,\n",
       "   'node_id': 'MDQ6VXNlcjU3ODk5MDUx',\n",
       "   'avatar_url': 'https://avatars.githubusercontent.com/u/57899051?v=4',\n",
       "   'gravatar_id': '',\n",
       "   'url': 'https://api.github.com/users/agalvezcorell',\n",
       "   'html_url': 'https://github.com/agalvezcorell',\n",
       "   'followers_url': 'https://api.github.com/users/agalvezcorell/followers',\n",
       "   'following_url': 'https://api.github.com/users/agalvezcorell/following{/other_user}',\n",
       "   'gists_url': 'https://api.github.com/users/agalvezcorell/gists{/gist_id}',\n",
       "   'starred_url': 'https://api.github.com/users/agalvezcorell/starred{/owner}{/repo}',\n",
       "   'subscriptions_url': 'https://api.github.com/users/agalvezcorell/subscriptions',\n",
       "   'organizations_url': 'https://api.github.com/users/agalvezcorell/orgs',\n",
       "   'repos_url': 'https://api.github.com/users/agalvezcorell/repos',\n",
       "   'events_url': 'https://api.github.com/users/agalvezcorell/events{/privacy}',\n",
       "   'received_events_url': 'https://api.github.com/users/agalvezcorell/received_events',\n",
       "   'type': 'User',\n",
       "   'site_admin': False},\n",
       "  'parents': [{'sha': '62ccb107c540872cb332b10768b890040fb50c1f',\n",
       "    'url': 'https://api.github.com/repos/ironhack-datalabs/datamad1020-rev/commits/62ccb107c540872cb332b10768b890040fb50c1f',\n",
       "    'html_url': 'https://github.com/ironhack-datalabs/datamad1020-rev/commit/62ccb107c540872cb332b10768b890040fb50c1f'}]},\n",
       " {'sha': '62ccb107c540872cb332b10768b890040fb50c1f',\n",
       "  'node_id': 'MDY6Q29tbWl0MzA0MjQ4NTM5OjYyY2NiMTA3YzU0MDg3MmNiMzMyYjEwNzY4Yjg5MDA0MGZiNTBjMWY=',\n",
       "  'commit': {'author': {'name': 'Ras Soyungalgo',\n",
       "    'email': 'agalvezcorell@gmail.com',\n",
       "    'date': '2021-01-26T13:00:09Z'},\n",
       "   'committer': {'name': 'Ras Soyungalgo',\n",
       "    'email': 'agalvezcorell@gmail.com',\n",
       "    'date': '2021-01-26T13:00:09Z'},\n",
       "   'message': 'edito challenge1 sin cambios, solo comment',\n",
       "   'tree': {'sha': '1fb3ebfb5f65d6ec77ea4b1666b95f5e6e09ac63',\n",
       "    'url': 'https://api.github.com/repos/ironhack-datalabs/datamad1020-rev/git/trees/1fb3ebfb5f65d6ec77ea4b1666b95f5e6e09ac63'},\n",
       "   'url': 'https://api.github.com/repos/ironhack-datalabs/datamad1020-rev/git/commits/62ccb107c540872cb332b10768b890040fb50c1f',\n",
       "   'comment_count': 0,\n",
       "   'verification': {'verified': False,\n",
       "    'reason': 'unsigned',\n",
       "    'signature': None,\n",
       "    'payload': None}},\n",
       "  'url': 'https://api.github.com/repos/ironhack-datalabs/datamad1020-rev/commits/62ccb107c540872cb332b10768b890040fb50c1f',\n",
       "  'html_url': 'https://github.com/ironhack-datalabs/datamad1020-rev/commit/62ccb107c540872cb332b10768b890040fb50c1f',\n",
       "  'comments_url': 'https://api.github.com/repos/ironhack-datalabs/datamad1020-rev/commits/62ccb107c540872cb332b10768b890040fb50c1f/comments',\n",
       "  'author': {'login': 'agalvezcorell',\n",
       "   'id': 57899051,\n",
       "   'node_id': 'MDQ6VXNlcjU3ODk5MDUx',\n",
       "   'avatar_url': 'https://avatars.githubusercontent.com/u/57899051?v=4',\n",
       "   'gravatar_id': '',\n",
       "   'url': 'https://api.github.com/users/agalvezcorell',\n",
       "   'html_url': 'https://github.com/agalvezcorell',\n",
       "   'followers_url': 'https://api.github.com/users/agalvezcorell/followers',\n",
       "   'following_url': 'https://api.github.com/users/agalvezcorell/following{/other_user}',\n",
       "   'gists_url': 'https://api.github.com/users/agalvezcorell/gists{/gist_id}',\n",
       "   'starred_url': 'https://api.github.com/users/agalvezcorell/starred{/owner}{/repo}',\n",
       "   'subscriptions_url': 'https://api.github.com/users/agalvezcorell/subscriptions',\n",
       "   'organizations_url': 'https://api.github.com/users/agalvezcorell/orgs',\n",
       "   'repos_url': 'https://api.github.com/users/agalvezcorell/repos',\n",
       "   'events_url': 'https://api.github.com/users/agalvezcorell/events{/privacy}',\n",
       "   'received_events_url': 'https://api.github.com/users/agalvezcorell/received_events',\n",
       "   'type': 'User',\n",
       "   'site_admin': False},\n",
       "  'committer': {'login': 'agalvezcorell',\n",
       "   'id': 57899051,\n",
       "   'node_id': 'MDQ6VXNlcjU3ODk5MDUx',\n",
       "   'avatar_url': 'https://avatars.githubusercontent.com/u/57899051?v=4',\n",
       "   'gravatar_id': '',\n",
       "   'url': 'https://api.github.com/users/agalvezcorell',\n",
       "   'html_url': 'https://github.com/agalvezcorell',\n",
       "   'followers_url': 'https://api.github.com/users/agalvezcorell/followers',\n",
       "   'following_url': 'https://api.github.com/users/agalvezcorell/following{/other_user}',\n",
       "   'gists_url': 'https://api.github.com/users/agalvezcorell/gists{/gist_id}',\n",
       "   'starred_url': 'https://api.github.com/users/agalvezcorell/starred{/owner}{/repo}',\n",
       "   'subscriptions_url': 'https://api.github.com/users/agalvezcorell/subscriptions',\n",
       "   'organizations_url': 'https://api.github.com/users/agalvezcorell/orgs',\n",
       "   'repos_url': 'https://api.github.com/users/agalvezcorell/repos',\n",
       "   'events_url': 'https://api.github.com/users/agalvezcorell/events{/privacy}',\n",
       "   'received_events_url': 'https://api.github.com/users/agalvezcorell/received_events',\n",
       "   'type': 'User',\n",
       "   'site_admin': False},\n",
       "  'parents': [{'sha': 'f3a48ac39f43cb8130695180360f5644eeefd309',\n",
       "    'url': 'https://api.github.com/repos/ironhack-datalabs/datamad1020-rev/commits/f3a48ac39f43cb8130695180360f5644eeefd309',\n",
       "    'html_url': 'https://github.com/ironhack-datalabs/datamad1020-rev/commit/f3a48ac39f43cb8130695180360f5644eeefd309'}]}]"
      ]
     },
     "execution_count": 78,
     "metadata": {},
     "output_type": "execute_result"
    }
   ],
   "source": [
    "response = requests.get(url = url_fork, params = parametros).json()\n",
    "response"
   ]
  },
  {
   "cell_type": "code",
   "execution_count": 81,
   "metadata": {},
   "outputs": [
    {
     "data": {
      "text/plain": [
       "2"
      ]
     },
     "execution_count": 81,
     "metadata": {},
     "output_type": "execute_result"
    }
   ],
   "source": [
    "len(response)"
   ]
  }
 ],
 "metadata": {
  "kernelspec": {
   "display_name": "Python 3",
   "language": "python",
   "name": "python3"
  },
  "language_info": {
   "codemirror_mode": {
    "name": "ipython",
    "version": 3
   },
   "file_extension": ".py",
   "mimetype": "text/x-python",
   "name": "python",
   "nbconvert_exporter": "python",
   "pygments_lexer": "ipython3",
   "version": "3.8.5"
  },
  "toc": {
   "base_numbering": 1,
   "nav_menu": {},
   "number_sections": true,
   "sideBar": true,
   "skip_h1_title": true,
   "title_cell": "Table of Contents",
   "title_sidebar": "Contents",
   "toc_cell": false,
   "toc_position": {
    "height": "calc(100% - 180px)",
    "left": "10px",
    "top": "150px",
    "width": "288px"
   },
   "toc_section_display": true,
   "toc_window_display": true
  }
 },
 "nbformat": 4,
 "nbformat_minor": 5
}
