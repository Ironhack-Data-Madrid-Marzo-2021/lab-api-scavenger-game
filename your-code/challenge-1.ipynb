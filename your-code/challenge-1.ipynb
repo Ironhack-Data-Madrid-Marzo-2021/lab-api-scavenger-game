{
 "cells": [
  {
   "cell_type": "code",
   "execution_count": 27,
   "metadata": {},
   "outputs": [],
   "source": [
    "import json\n",
    "import requests\n",
    "import pandas as pd\n"
   ]
  },
  {
   "cell_type": "markdown",
   "metadata": {},
   "source": [
    "Only if you're using your environmental variable eith the `.env` file, import/install the following modules. Otherwise it is not necessary:\n",
    "\n",
    "https://pypi.org/project/python-dotenv/"
   ]
  },
  {
   "cell_type": "code",
   "execution_count": 28,
   "metadata": {},
   "outputs": [
    {
     "data": {
      "text/plain": [
       "True"
      ]
     },
     "execution_count": 28,
     "metadata": {},
     "output_type": "execute_result"
    }
   ],
   "source": [
    "import os\n",
    "from dotenv import load_dotenv\n",
    "load_dotenv()"
   ]
  },
  {
   "cell_type": "code",
   "execution_count": 29,
   "metadata": {},
   "outputs": [],
   "source": [
    "api_key = os.getenv(\"token2\")\n"
   ]
  },
  {
   "cell_type": "markdown",
   "metadata": {},
   "source": [
    "# Challenge 1: Fork Languages\n",
    "\n",
    "You will find out how many programming languages are used among all the forks created from the main lab repo of your bootcamp. Assuming the main lab repo is ironhack-datalabs/datamad1020-rev, you will:\n",
    "\n",
    "1. Obtain the full list of forks created from the main lab repo via Github API.\n",
    "\n",
    "2. Loop the JSON response to find out the language attribute of each fork. Use an array to store the language attributes of each fork.\n",
    "\n",
    "Hint: Each language should appear only once in your array.\n",
    "\n",
    "3. Print the language array. It should be something like:\n",
    "\n",
    "[\"Python\", \"Jupyter Notebook\", \"HTML\"]\n"
   ]
  },
  {
   "cell_type": "markdown",
   "metadata": {},
   "source": [
    "**HINT:**: Create a list with every **language_url** you find in every fork "
   ]
  },
  {
   "cell_type": "markdown",
   "metadata": {},
   "source": [
    "⚠️ **Remember to limit your output before submission**."
   ]
  },
  {
   "cell_type": "code",
   "execution_count": 30,
   "metadata": {},
   "outputs": [],
   "source": [
    "url_fork = \"https://api.github.com/repos/ironhack-datalabs/datamad1020-rev/forks\""
   ]
  },
  {
   "cell_type": "code",
   "execution_count": 31,
   "metadata": {},
   "outputs": [],
   "source": [
    "parametros  = {\"Authorization\" : f\"token {api_key}\"}"
   ]
  },
  {
   "cell_type": "code",
   "execution_count": 32,
   "metadata": {},
   "outputs": [
    {
     "data": {
      "text/plain": [
       "{'message': \"API rate limit exceeded for 81.43.161.53. (But here's the good news: Authenticated requests get a higher rate limit. Check out the documentation for more details.)\",\n",
       " 'documentation_url': 'https://docs.github.com/rest/overview/resources-in-the-rest-api#rate-limiting'}"
      ]
     },
     "execution_count": 32,
     "metadata": {},
     "output_type": "execute_result"
    }
   ],
   "source": [
    "response = requests.get(url = url_fork, params = parametros).json()\n",
    "response"
   ]
  },
  {
   "cell_type": "code",
   "execution_count": 120,
   "metadata": {},
   "outputs": [
    {
     "data": {
      "text/plain": [
       "['acamposla/datamad1020-rev',\n",
       " 'PaolaKarina/datamad1020-rev',\n",
       " 'VictorRodriguezIronhack/datamad1020-rev',\n",
       " 'sonia-quintanar/datamad1020-rev',\n",
       " 'jperezllorente/datamad1020-rev',\n",
       " 'AnaMA96/datamad1020-rev',\n",
       " 'breogann/datamad1020-rev',\n",
       " 'rafadedubra/datamad1020-rev',\n",
       " 'Nuria-Pe/datamad1020-rev',\n",
       " 'SergioCaler0/datamad1020-rev',\n",
       " 'LucianaLescano/datamad1020-rev',\n",
       " 'Mario-Sainz/datamad1020-rev',\n",
       " 'juanmarin00/datamad1020-rev',\n",
       " 'JoseManuel-G/datamad1020-rev',\n",
       " 'jesus-perez-366/datamad1020-rev',\n",
       " 'sgonzalainen/datamad1020-rev',\n",
       " 'Pptrv/datamad1020-rev',\n",
       " 'Marxess/datamad1020-rev',\n",
       " 'patri-carrasco/datamad1020-rev',\n",
       " 'BlueJotas/datamad1020-rev',\n",
       " 'jvazquezgalvezlp/datamad1020-rev',\n",
       " 'leticia-sobrino/datamad1020-rev',\n",
       " 'JaimeCalcedo/datamad1020-rev']"
      ]
     },
     "execution_count": 120,
     "metadata": {},
     "output_type": "execute_result"
    }
   ],
   "source": [
    "name_array = []\n",
    "\n",
    "for i in range(len(response)):\n",
    "    name_array.append(response[i]['full_name'])\n",
    "    \n",
    "name_array"
   ]
  },
  {
   "cell_type": "code",
   "execution_count": 129,
   "metadata": {},
   "outputs": [
    {
     "data": {
      "text/plain": [
       "['https://api.github.com/repos/acamposla/datamad1020-rev/languages',\n",
       " 'https://api.github.com/repos/PaolaKarina/datamad1020-rev/languages',\n",
       " 'https://api.github.com/repos/VictorRodriguezIronhack/datamad1020-rev/languages',\n",
       " 'https://api.github.com/repos/sonia-quintanar/datamad1020-rev/languages',\n",
       " 'https://api.github.com/repos/jperezllorente/datamad1020-rev/languages',\n",
       " 'https://api.github.com/repos/AnaMA96/datamad1020-rev/languages',\n",
       " 'https://api.github.com/repos/breogann/datamad1020-rev/languages',\n",
       " 'https://api.github.com/repos/rafadedubra/datamad1020-rev/languages',\n",
       " 'https://api.github.com/repos/Nuria-Pe/datamad1020-rev/languages',\n",
       " 'https://api.github.com/repos/SergioCaler0/datamad1020-rev/languages',\n",
       " 'https://api.github.com/repos/LucianaLescano/datamad1020-rev/languages',\n",
       " 'https://api.github.com/repos/Mario-Sainz/datamad1020-rev/languages',\n",
       " 'https://api.github.com/repos/juanmarin00/datamad1020-rev/languages',\n",
       " 'https://api.github.com/repos/JoseManuel-G/datamad1020-rev/languages',\n",
       " 'https://api.github.com/repos/jesus-perez-366/datamad1020-rev/languages',\n",
       " 'https://api.github.com/repos/sgonzalainen/datamad1020-rev/languages',\n",
       " 'https://api.github.com/repos/Pptrv/datamad1020-rev/languages',\n",
       " 'https://api.github.com/repos/Marxess/datamad1020-rev/languages',\n",
       " 'https://api.github.com/repos/patri-carrasco/datamad1020-rev/languages',\n",
       " 'https://api.github.com/repos/BlueJotas/datamad1020-rev/languages',\n",
       " 'https://api.github.com/repos/jvazquezgalvezlp/datamad1020-rev/languages',\n",
       " 'https://api.github.com/repos/leticia-sobrino/datamad1020-rev/languages',\n",
       " 'https://api.github.com/repos/JaimeCalcedo/datamad1020-rev/languages']"
      ]
     },
     "execution_count": 129,
     "metadata": {},
     "output_type": "execute_result"
    }
   ],
   "source": [
    "lan_array = []\n",
    "\n",
    "for i in range(23):\n",
    "    lan_array.append(response[i]['languages_url'])\n",
    "    \n",
    "lan_array"
   ]
  },
  {
   "cell_type": "code",
   "execution_count": 133,
   "metadata": {},
   "outputs": [
    {
     "data": {
      "text/plain": [
       "'https://api.github.com/repos/acamposla/datamad1020-rev/languages'"
      ]
     },
     "execution_count": 133,
     "metadata": {},
     "output_type": "execute_result"
    }
   ],
   "source": [
    "url_fork = response[0]['languages_url']\n",
    "url_fork"
   ]
  },
  {
   "cell_type": "code",
   "execution_count": 136,
   "metadata": {},
   "outputs": [
    {
     "data": {
      "text/plain": [
       "dict_keys(['message', 'documentation_url'])"
      ]
     },
     "execution_count": 136,
     "metadata": {},
     "output_type": "execute_result"
    }
   ],
   "source": [
    "url_aa = response[0]['languages_url']\n",
    "response_aa = requests.get(url = url_aa, params = parametros).json()\n",
    "response_aa.keys()"
   ]
  },
  {
   "cell_type": "code",
   "execution_count": 26,
   "metadata": {},
   "outputs": [
    {
     "ename": "NameError",
     "evalue": "name 'lan_array' is not defined",
     "output_type": "error",
     "traceback": [
      "\u001b[1;31m---------------------------------------------------------------------------\u001b[0m",
      "\u001b[1;31mNameError\u001b[0m                                 Traceback (most recent call last)",
      "\u001b[1;32m<ipython-input-26-ee919ca14b6e>\u001b[0m in \u001b[0;36m<module>\u001b[1;34m\u001b[0m\n\u001b[0;32m      1\u001b[0m \u001b[0mlan_arr2\u001b[0m \u001b[1;33m=\u001b[0m \u001b[1;33m[\u001b[0m\u001b[1;33m]\u001b[0m\u001b[1;33m\u001b[0m\u001b[1;33m\u001b[0m\u001b[0m\n\u001b[0;32m      2\u001b[0m \u001b[1;33m\u001b[0m\u001b[0m\n\u001b[1;32m----> 3\u001b[1;33m \u001b[1;32mfor\u001b[0m \u001b[0mi\u001b[0m \u001b[1;32min\u001b[0m \u001b[0mlan_array\u001b[0m\u001b[1;33m:\u001b[0m\u001b[1;33m\u001b[0m\u001b[1;33m\u001b[0m\u001b[0m\n\u001b[0m\u001b[0;32m      4\u001b[0m     \u001b[0mresponse_lang2\u001b[0m \u001b[1;33m=\u001b[0m \u001b[0mrequests\u001b[0m\u001b[1;33m.\u001b[0m\u001b[0mget\u001b[0m\u001b[1;33m(\u001b[0m\u001b[0murl\u001b[0m \u001b[1;33m=\u001b[0m \u001b[0mi\u001b[0m\u001b[1;33m,\u001b[0m \u001b[0mparams\u001b[0m \u001b[1;33m=\u001b[0m \u001b[0mparametros\u001b[0m\u001b[1;33m)\u001b[0m\u001b[1;33m.\u001b[0m\u001b[0mjson\u001b[0m\u001b[1;33m(\u001b[0m\u001b[1;33m)\u001b[0m\u001b[1;33m\u001b[0m\u001b[1;33m\u001b[0m\u001b[0m\n\u001b[0;32m      5\u001b[0m     \u001b[0mlan_arr2\u001b[0m\u001b[1;33m.\u001b[0m\u001b[0mappend\u001b[0m\u001b[1;33m(\u001b[0m\u001b[0mresponse_lang2\u001b[0m\u001b[1;33m.\u001b[0m\u001b[0mkeys\u001b[0m\u001b[1;33m(\u001b[0m\u001b[1;33m)\u001b[0m\u001b[1;33m)\u001b[0m\u001b[1;33m\u001b[0m\u001b[1;33m\u001b[0m\u001b[0m\n",
      "\u001b[1;31mNameError\u001b[0m: name 'lan_array' is not defined"
     ]
    }
   ],
   "source": [
    "lan_arr2 = []\n",
    "\n",
    "for i in lan_array:\n",
    "    response_lang2 = requests.get(url = i, params = parametros).json()\n",
    "    lan_arr2.append(response_lang2.keys())\n",
    "    time.sleep(2)\n",
    "    \n",
    "lan_arr2"
   ]
  },
  {
   "cell_type": "code",
   "execution_count": 47,
   "metadata": {},
   "outputs": [
    {
     "data": {
      "text/html": [
       "<div>\n",
       "<style scoped>\n",
       "    .dataframe tbody tr th:only-of-type {\n",
       "        vertical-align: middle;\n",
       "    }\n",
       "\n",
       "    .dataframe tbody tr th {\n",
       "        vertical-align: top;\n",
       "    }\n",
       "\n",
       "    .dataframe thead th {\n",
       "        text-align: right;\n",
       "    }\n",
       "</style>\n",
       "<table border=\"1\" class=\"dataframe\">\n",
       "  <thead>\n",
       "    <tr style=\"text-align: right;\">\n",
       "      <th></th>\n",
       "      <th>Usuario</th>\n",
       "      <th>Lenguajes</th>\n",
       "    </tr>\n",
       "  </thead>\n",
       "  <tbody>\n",
       "    <tr>\n",
       "      <th>0</th>\n",
       "      <td>acamposla/datamad1020-rev</td>\n",
       "      <td>https://api.github.com/repos/acamposla/datamad...</td>\n",
       "    </tr>\n",
       "    <tr>\n",
       "      <th>1</th>\n",
       "      <td>PaolaKarina/datamad1020-rev</td>\n",
       "      <td>https://api.github.com/repos/PaolaKarina/datam...</td>\n",
       "    </tr>\n",
       "    <tr>\n",
       "      <th>2</th>\n",
       "      <td>VictorRodriguezIronhack/datamad1020-rev</td>\n",
       "      <td>https://api.github.com/repos/VictorRodriguezIr...</td>\n",
       "    </tr>\n",
       "    <tr>\n",
       "      <th>3</th>\n",
       "      <td>sonia-quintanar/datamad1020-rev</td>\n",
       "      <td>https://api.github.com/repos/sonia-quintanar/d...</td>\n",
       "    </tr>\n",
       "    <tr>\n",
       "      <th>4</th>\n",
       "      <td>jperezllorente/datamad1020-rev</td>\n",
       "      <td>https://api.github.com/repos/jperezllorente/da...</td>\n",
       "    </tr>\n",
       "    <tr>\n",
       "      <th>5</th>\n",
       "      <td>AnaMA96/datamad1020-rev</td>\n",
       "      <td>https://api.github.com/repos/AnaMA96/datamad10...</td>\n",
       "    </tr>\n",
       "    <tr>\n",
       "      <th>6</th>\n",
       "      <td>breogann/datamad1020-rev</td>\n",
       "      <td>https://api.github.com/repos/breogann/datamad1...</td>\n",
       "    </tr>\n",
       "    <tr>\n",
       "      <th>7</th>\n",
       "      <td>rafadedubra/datamad1020-rev</td>\n",
       "      <td>https://api.github.com/repos/rafadedubra/datam...</td>\n",
       "    </tr>\n",
       "    <tr>\n",
       "      <th>8</th>\n",
       "      <td>Nuria-Pe/datamad1020-rev</td>\n",
       "      <td>https://api.github.com/repos/Nuria-Pe/datamad1...</td>\n",
       "    </tr>\n",
       "    <tr>\n",
       "      <th>9</th>\n",
       "      <td>SergioCaler0/datamad1020-rev</td>\n",
       "      <td>https://api.github.com/repos/SergioCaler0/data...</td>\n",
       "    </tr>\n",
       "    <tr>\n",
       "      <th>10</th>\n",
       "      <td>LucianaLescano/datamad1020-rev</td>\n",
       "      <td>https://api.github.com/repos/LucianaLescano/da...</td>\n",
       "    </tr>\n",
       "    <tr>\n",
       "      <th>11</th>\n",
       "      <td>Mario-Sainz/datamad1020-rev</td>\n",
       "      <td>https://api.github.com/repos/Mario-Sainz/datam...</td>\n",
       "    </tr>\n",
       "    <tr>\n",
       "      <th>12</th>\n",
       "      <td>juanmarin00/datamad1020-rev</td>\n",
       "      <td>https://api.github.com/repos/juanmarin00/datam...</td>\n",
       "    </tr>\n",
       "    <tr>\n",
       "      <th>13</th>\n",
       "      <td>JoseManuel-G/datamad1020-rev</td>\n",
       "      <td>https://api.github.com/repos/JoseManuel-G/data...</td>\n",
       "    </tr>\n",
       "    <tr>\n",
       "      <th>14</th>\n",
       "      <td>jesus-perez-366/datamad1020-rev</td>\n",
       "      <td>https://api.github.com/repos/jesus-perez-366/d...</td>\n",
       "    </tr>\n",
       "    <tr>\n",
       "      <th>15</th>\n",
       "      <td>sgonzalainen/datamad1020-rev</td>\n",
       "      <td>https://api.github.com/repos/sgonzalainen/data...</td>\n",
       "    </tr>\n",
       "    <tr>\n",
       "      <th>16</th>\n",
       "      <td>Pptrv/datamad1020-rev</td>\n",
       "      <td>https://api.github.com/repos/Pptrv/datamad1020...</td>\n",
       "    </tr>\n",
       "    <tr>\n",
       "      <th>17</th>\n",
       "      <td>Marxess/datamad1020-rev</td>\n",
       "      <td>https://api.github.com/repos/Marxess/datamad10...</td>\n",
       "    </tr>\n",
       "    <tr>\n",
       "      <th>18</th>\n",
       "      <td>patri-carrasco/datamad1020-rev</td>\n",
       "      <td>https://api.github.com/repos/patri-carrasco/da...</td>\n",
       "    </tr>\n",
       "    <tr>\n",
       "      <th>19</th>\n",
       "      <td>BlueJotas/datamad1020-rev</td>\n",
       "      <td>https://api.github.com/repos/BlueJotas/datamad...</td>\n",
       "    </tr>\n",
       "    <tr>\n",
       "      <th>20</th>\n",
       "      <td>jvazquezgalvezlp/datamad1020-rev</td>\n",
       "      <td>https://api.github.com/repos/jvazquezgalvezlp/...</td>\n",
       "    </tr>\n",
       "    <tr>\n",
       "      <th>21</th>\n",
       "      <td>leticia-sobrino/datamad1020-rev</td>\n",
       "      <td>https://api.github.com/repos/leticia-sobrino/d...</td>\n",
       "    </tr>\n",
       "    <tr>\n",
       "      <th>22</th>\n",
       "      <td>JaimeCalcedo/datamad1020-rev</td>\n",
       "      <td>https://api.github.com/repos/JaimeCalcedo/data...</td>\n",
       "    </tr>\n",
       "  </tbody>\n",
       "</table>\n",
       "</div>"
      ],
      "text/plain": [
       "                                    Usuario  \\\n",
       "0                 acamposla/datamad1020-rev   \n",
       "1               PaolaKarina/datamad1020-rev   \n",
       "2   VictorRodriguezIronhack/datamad1020-rev   \n",
       "3           sonia-quintanar/datamad1020-rev   \n",
       "4            jperezllorente/datamad1020-rev   \n",
       "5                   AnaMA96/datamad1020-rev   \n",
       "6                  breogann/datamad1020-rev   \n",
       "7               rafadedubra/datamad1020-rev   \n",
       "8                  Nuria-Pe/datamad1020-rev   \n",
       "9              SergioCaler0/datamad1020-rev   \n",
       "10           LucianaLescano/datamad1020-rev   \n",
       "11              Mario-Sainz/datamad1020-rev   \n",
       "12              juanmarin00/datamad1020-rev   \n",
       "13             JoseManuel-G/datamad1020-rev   \n",
       "14          jesus-perez-366/datamad1020-rev   \n",
       "15             sgonzalainen/datamad1020-rev   \n",
       "16                    Pptrv/datamad1020-rev   \n",
       "17                  Marxess/datamad1020-rev   \n",
       "18           patri-carrasco/datamad1020-rev   \n",
       "19                BlueJotas/datamad1020-rev   \n",
       "20         jvazquezgalvezlp/datamad1020-rev   \n",
       "21          leticia-sobrino/datamad1020-rev   \n",
       "22             JaimeCalcedo/datamad1020-rev   \n",
       "\n",
       "                                            Lenguajes  \n",
       "0   https://api.github.com/repos/acamposla/datamad...  \n",
       "1   https://api.github.com/repos/PaolaKarina/datam...  \n",
       "2   https://api.github.com/repos/VictorRodriguezIr...  \n",
       "3   https://api.github.com/repos/sonia-quintanar/d...  \n",
       "4   https://api.github.com/repos/jperezllorente/da...  \n",
       "5   https://api.github.com/repos/AnaMA96/datamad10...  \n",
       "6   https://api.github.com/repos/breogann/datamad1...  \n",
       "7   https://api.github.com/repos/rafadedubra/datam...  \n",
       "8   https://api.github.com/repos/Nuria-Pe/datamad1...  \n",
       "9   https://api.github.com/repos/SergioCaler0/data...  \n",
       "10  https://api.github.com/repos/LucianaLescano/da...  \n",
       "11  https://api.github.com/repos/Mario-Sainz/datam...  \n",
       "12  https://api.github.com/repos/juanmarin00/datam...  \n",
       "13  https://api.github.com/repos/JoseManuel-G/data...  \n",
       "14  https://api.github.com/repos/jesus-perez-366/d...  \n",
       "15  https://api.github.com/repos/sgonzalainen/data...  \n",
       "16  https://api.github.com/repos/Pptrv/datamad1020...  \n",
       "17  https://api.github.com/repos/Marxess/datamad10...  \n",
       "18  https://api.github.com/repos/patri-carrasco/da...  \n",
       "19  https://api.github.com/repos/BlueJotas/datamad...  \n",
       "20  https://api.github.com/repos/jvazquezgalvezlp/...  \n",
       "21  https://api.github.com/repos/leticia-sobrino/d...  \n",
       "22  https://api.github.com/repos/JaimeCalcedo/data...  "
      ]
     },
     "execution_count": 47,
     "metadata": {},
     "output_type": "execute_result"
    }
   ],
   "source": [
    "data = zip(name_array, lan_array2)\n",
    "df = pd.DataFrame(data)\n",
    "df2 = df.rename(columns={0:'Usuario',1:'Lenguajes'})\n",
    "df2"
   ]
  },
  {
   "cell_type": "code",
   "execution_count": 45,
   "metadata": {},
   "outputs": [],
   "source": [
    "name_array = ['acamposla/datamad1020-rev',\n",
    " 'PaolaKarina/datamad1020-rev',\n",
    " 'VictorRodriguezIronhack/datamad1020-rev',\n",
    " 'sonia-quintanar/datamad1020-rev',\n",
    " 'jperezllorente/datamad1020-rev',\n",
    " 'AnaMA96/datamad1020-rev',\n",
    " 'breogann/datamad1020-rev',\n",
    " 'rafadedubra/datamad1020-rev',\n",
    " 'Nuria-Pe/datamad1020-rev',\n",
    " 'SergioCaler0/datamad1020-rev',\n",
    " 'LucianaLescano/datamad1020-rev',\n",
    " 'Mario-Sainz/datamad1020-rev',\n",
    " 'juanmarin00/datamad1020-rev',\n",
    " 'JoseManuel-G/datamad1020-rev',\n",
    " 'jesus-perez-366/datamad1020-rev',\n",
    " 'sgonzalainen/datamad1020-rev',\n",
    " 'Pptrv/datamad1020-rev',\n",
    " 'Marxess/datamad1020-rev',\n",
    " 'patri-carrasco/datamad1020-rev',\n",
    " 'BlueJotas/datamad1020-rev',\n",
    " 'jvazquezgalvezlp/datamad1020-rev',\n",
    " 'leticia-sobrino/datamad1020-rev',\n",
    " 'JaimeCalcedo/datamad1020-rev']"
   ]
  },
  {
   "cell_type": "code",
   "execution_count": 40,
   "metadata": {},
   "outputs": [],
   "source": [
    "lan_array = ['https://api.github.com/repos/acamposla/datamad1020-rev/languages',\n",
    " 'https://api.github.com/repos/PaolaKarina/datamad1020-rev/languages',\n",
    " 'https://api.github.com/repos/VictorRodriguezIronhack/datamad1020-rev/languages',\n",
    " 'https://api.github.com/repos/sonia-quintanar/datamad1020-rev/languages',\n",
    " 'https://api.github.com/repos/jperezllorente/datamad1020-rev/languages',\n",
    " 'https://api.github.com/repos/AnaMA96/datamad1020-rev/languages',\n",
    " 'https://api.github.com/repos/breogann/datamad1020-rev/languages',\n",
    " 'https://api.github.com/repos/rafadedubra/datamad1020-rev/languages',\n",
    " 'https://api.github.com/repos/Nuria-Pe/datamad1020-rev/languages',\n",
    " 'https://api.github.com/repos/SergioCaler0/datamad1020-rev/languages',\n",
    " 'https://api.github.com/repos/LucianaLescano/datamad1020-rev/languages',\n",
    " 'https://api.github.com/repos/Mario-Sainz/datamad1020-rev/languages',\n",
    " 'https://api.github.com/repos/juanmarin00/datamad1020-rev/languages',\n",
    " 'https://api.github.com/repos/JoseManuel-G/datamad1020-rev/languages',\n",
    " 'https://api.github.com/repos/jesus-perez-366/datamad1020-rev/languages',\n",
    " 'https://api.github.com/repos/sgonzalainen/datamad1020-rev/languages',\n",
    " 'https://api.github.com/repos/Pptrv/datamad1020-rev/languages',\n",
    " 'https://api.github.com/repos/Marxess/datamad1020-rev/languages',\n",
    " 'https://api.github.com/repos/patri-carrasco/datamad1020-rev/languages',\n",
    " 'https://api.github.com/repos/BlueJotas/datamad1020-rev/languages',\n",
    " 'https://api.github.com/repos/jvazquezgalvezlp/datamad1020-rev/languages',\n",
    " 'https://api.github.com/repos/leticia-sobrino/datamad1020-rev/languages',\n",
    " 'https://api.github.com/repos/JaimeCalcedo/datamad1020-rev/languages']"
   ]
  },
  {
   "cell_type": "code",
   "execution_count": null,
   "metadata": {},
   "outputs": [],
   "source": []
  }
 ],
 "metadata": {
  "kernelspec": {
   "display_name": "Python 3",
   "language": "python",
   "name": "python3"
  },
  "language_info": {
   "codemirror_mode": {
    "name": "ipython",
    "version": 3
   },
   "file_extension": ".py",
   "mimetype": "text/x-python",
   "name": "python",
   "nbconvert_exporter": "python",
   "pygments_lexer": "ipython3",
   "version": "3.8.5"
  },
  "toc": {
   "base_numbering": 1,
   "nav_menu": {},
   "number_sections": true,
   "sideBar": true,
   "skip_h1_title": true,
   "title_cell": "Table of Contents",
   "title_sidebar": "Contents",
   "toc_cell": false,
   "toc_position": {},
   "toc_section_display": true,
   "toc_window_display": true
  }
 },
 "nbformat": 4,
 "nbformat_minor": 2
}
