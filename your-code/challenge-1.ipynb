{
 "cells": [
  {
   "cell_type": "code",
   "execution_count": 1,
   "metadata": {},
   "outputs": [],
   "source": [
    "import requests \n",
    "import json\n",
    "import os\n",
    "from dotenv import load_dotenv\n",
    "import pandas as pd\n",
    "from pandas import json_normalize\n",
    "import time"
   ]
  },
  {
   "cell_type": "markdown",
   "metadata": {},
   "source": [
    "Only if you're using your environmental variable eith the `.env` file, import/install the following modules. Otherwise it is not necessary:\n",
    "\n",
    "https://pypi.org/project/python-dotenv/"
   ]
  },
  {
   "cell_type": "code",
   "execution_count": 2,
   "metadata": {},
   "outputs": [
    {
     "data": {
      "text/plain": [
       "True"
      ]
     },
     "execution_count": 2,
     "metadata": {},
     "output_type": "execute_result"
    }
   ],
   "source": [
    "load_dotenv()"
   ]
  },
  {
   "cell_type": "code",
   "execution_count": 3,
   "metadata": {},
   "outputs": [],
   "source": [
    "api_key = os.getenv(\"tok1\")"
   ]
  },
  {
   "cell_type": "markdown",
   "metadata": {},
   "source": [
    "# Challenge 1: Fork Languages\n",
    "\n",
    "You will find out how many programming languages are used among all the forks created from the main lab repo of your bootcamp. Assuming the main lab repo is ironhack-datalabs/datamad1020-rev, you will:\n",
    "\n",
    "1. Obtain the full list of forks created from the main lab repo via Github API.\n",
    "\n",
    "2. Loop the JSON response to find out the language attribute of each fork. Use an array to store the language attributes of each fork.\n",
    "\n",
    "Hint: Each language should appear only once in your array.\n",
    "\n",
    "3. Print the language array. It should be something like:\n",
    "\n",
    "[\"Python\", \"Jupyter Notebook\", \"HTML\"]\n"
   ]
  },
  {
   "cell_type": "markdown",
   "metadata": {},
   "source": [
    "**HINT:**: Create a list with every **language_url** you find in every fork "
   ]
  },
  {
   "cell_type": "markdown",
   "metadata": {},
   "source": [
    "⚠️ **Remember to limit your output before submission**."
   ]
  },
  {
   "cell_type": "code",
   "execution_count": 4,
   "metadata": {},
   "outputs": [],
   "source": [
    "#Your code"
   ]
  },
  {
   "cell_type": "code",
   "execution_count": 5,
   "metadata": {},
   "outputs": [],
   "source": [
    "# Example: print(variable[:10]) "
   ]
  },
  {
   "cell_type": "markdown",
   "metadata": {},
   "source": [
    "### Challange 1.1"
   ]
  },
  {
   "cell_type": "markdown",
   "metadata": {},
   "source": [
    "1. Obtain the full list of forks created from the main lab repo via Github API."
   ]
  },
  {
   "cell_type": "code",
   "execution_count": 6,
   "metadata": {},
   "outputs": [],
   "source": [
    "url_forks = \"https://api.github.com/repos/ironhack-datalabs/datamad1020-rev/forks\""
   ]
  },
  {
   "cell_type": "code",
   "execution_count": 7,
   "metadata": {
    "scrolled": true
   },
   "outputs": [],
   "source": [
    "parameters = {\"Authorization\": f\"token{api_key}\"}"
   ]
  },
  {
   "cell_type": "code",
   "execution_count": 8,
   "metadata": {},
   "outputs": [],
   "source": [
    "response = requests.get(url_forks,parameters)"
   ]
  },
  {
   "cell_type": "code",
   "execution_count": 9,
   "metadata": {},
   "outputs": [
    {
     "data": {
      "text/plain": [
       "<Response [200]>"
      ]
     },
     "execution_count": 9,
     "metadata": {},
     "output_type": "execute_result"
    }
   ],
   "source": [
    "response"
   ]
  },
  {
   "cell_type": "code",
   "execution_count": 10,
   "metadata": {},
   "outputs": [],
   "source": [
    "resp = response.json()"
   ]
  },
  {
   "cell_type": "code",
   "execution_count": 11,
   "metadata": {},
   "outputs": [
    {
     "data": {
      "text/plain": [
       "23"
      ]
     },
     "execution_count": 11,
     "metadata": {},
     "output_type": "execute_result"
    }
   ],
   "source": [
    "len(resp)"
   ]
  },
  {
   "cell_type": "code",
   "execution_count": 12,
   "metadata": {},
   "outputs": [
    {
     "data": {
      "text/plain": [
       "list"
      ]
     },
     "execution_count": 12,
     "metadata": {},
     "output_type": "execute_result"
    }
   ],
   "source": [
    "type(resp)"
   ]
  },
  {
   "cell_type": "code",
   "execution_count": 14,
   "metadata": {},
   "outputs": [
    {
     "data": {
      "text/html": [
       "<div>\n",
       "<style scoped>\n",
       "    .dataframe tbody tr th:only-of-type {\n",
       "        vertical-align: middle;\n",
       "    }\n",
       "\n",
       "    .dataframe tbody tr th {\n",
       "        vertical-align: top;\n",
       "    }\n",
       "\n",
       "    .dataframe thead th {\n",
       "        text-align: right;\n",
       "    }\n",
       "</style>\n",
       "<table border=\"1\" class=\"dataframe\">\n",
       "  <thead>\n",
       "    <tr style=\"text-align: right;\">\n",
       "      <th></th>\n",
       "      <th>id</th>\n",
       "      <th>node_id</th>\n",
       "      <th>name</th>\n",
       "      <th>full_name</th>\n",
       "      <th>private</th>\n",
       "      <th>owner</th>\n",
       "      <th>html_url</th>\n",
       "      <th>description</th>\n",
       "      <th>fork</th>\n",
       "      <th>url</th>\n",
       "      <th>...</th>\n",
       "      <th>forks_count</th>\n",
       "      <th>mirror_url</th>\n",
       "      <th>archived</th>\n",
       "      <th>disabled</th>\n",
       "      <th>open_issues_count</th>\n",
       "      <th>license</th>\n",
       "      <th>forks</th>\n",
       "      <th>open_issues</th>\n",
       "      <th>watchers</th>\n",
       "      <th>default_branch</th>\n",
       "    </tr>\n",
       "  </thead>\n",
       "  <tbody>\n",
       "    <tr>\n",
       "      <th>0</th>\n",
       "      <td>351190494</td>\n",
       "      <td>MDEwOlJlcG9zaXRvcnkzNTExOTA0OTQ=</td>\n",
       "      <td>datamad1020-rev</td>\n",
       "      <td>acamposla/datamad1020-rev</td>\n",
       "      <td>False</td>\n",
       "      <td>{'login': 'acamposla', 'id': 38134753, 'node_i...</td>\n",
       "      <td>https://github.com/acamposla/datamad1020-rev</td>\n",
       "      <td>None</td>\n",
       "      <td>True</td>\n",
       "      <td>https://api.github.com/repos/acamposla/datamad...</td>\n",
       "      <td>...</td>\n",
       "      <td>0</td>\n",
       "      <td>None</td>\n",
       "      <td>False</td>\n",
       "      <td>False</td>\n",
       "      <td>0</td>\n",
       "      <td>{'key': 'agpl-3.0', 'name': 'GNU Affero Genera...</td>\n",
       "      <td>0</td>\n",
       "      <td>0</td>\n",
       "      <td>0</td>\n",
       "      <td>master</td>\n",
       "    </tr>\n",
       "    <tr>\n",
       "      <th>1</th>\n",
       "      <td>333169333</td>\n",
       "      <td>MDEwOlJlcG9zaXRvcnkzMzMxNjkzMzM=</td>\n",
       "      <td>datamad1020-rev</td>\n",
       "      <td>PaolaKarina/datamad1020-rev</td>\n",
       "      <td>False</td>\n",
       "      <td>{'login': 'PaolaKarina', 'id': 72129520, 'node...</td>\n",
       "      <td>https://github.com/PaolaKarina/datamad1020-rev</td>\n",
       "      <td>None</td>\n",
       "      <td>True</td>\n",
       "      <td>https://api.github.com/repos/PaolaKarina/datam...</td>\n",
       "      <td>...</td>\n",
       "      <td>0</td>\n",
       "      <td>None</td>\n",
       "      <td>False</td>\n",
       "      <td>False</td>\n",
       "      <td>0</td>\n",
       "      <td>{'key': 'agpl-3.0', 'name': 'GNU Affero Genera...</td>\n",
       "      <td>0</td>\n",
       "      <td>0</td>\n",
       "      <td>0</td>\n",
       "      <td>master</td>\n",
       "    </tr>\n",
       "    <tr>\n",
       "      <th>2</th>\n",
       "      <td>315459070</td>\n",
       "      <td>MDEwOlJlcG9zaXRvcnkzMTU0NTkwNzA=</td>\n",
       "      <td>datamad1020-rev</td>\n",
       "      <td>VictorRodriguezIronhack/datamad1020-rev</td>\n",
       "      <td>False</td>\n",
       "      <td>{'login': 'VictorRodriguezIronhack', 'id': 576...</td>\n",
       "      <td>https://github.com/VictorRodriguezIronhack/dat...</td>\n",
       "      <td>None</td>\n",
       "      <td>True</td>\n",
       "      <td>https://api.github.com/repos/VictorRodriguezIr...</td>\n",
       "      <td>...</td>\n",
       "      <td>0</td>\n",
       "      <td>None</td>\n",
       "      <td>False</td>\n",
       "      <td>False</td>\n",
       "      <td>0</td>\n",
       "      <td>{'key': 'agpl-3.0', 'name': 'GNU Affero Genera...</td>\n",
       "      <td>0</td>\n",
       "      <td>0</td>\n",
       "      <td>0</td>\n",
       "      <td>master</td>\n",
       "    </tr>\n",
       "  </tbody>\n",
       "</table>\n",
       "<p>3 rows × 73 columns</p>\n",
       "</div>"
      ],
      "text/plain": [
       "          id                           node_id             name  \\\n",
       "0  351190494  MDEwOlJlcG9zaXRvcnkzNTExOTA0OTQ=  datamad1020-rev   \n",
       "1  333169333  MDEwOlJlcG9zaXRvcnkzMzMxNjkzMzM=  datamad1020-rev   \n",
       "2  315459070  MDEwOlJlcG9zaXRvcnkzMTU0NTkwNzA=  datamad1020-rev   \n",
       "\n",
       "                                 full_name  private  \\\n",
       "0                acamposla/datamad1020-rev    False   \n",
       "1              PaolaKarina/datamad1020-rev    False   \n",
       "2  VictorRodriguezIronhack/datamad1020-rev    False   \n",
       "\n",
       "                                               owner  \\\n",
       "0  {'login': 'acamposla', 'id': 38134753, 'node_i...   \n",
       "1  {'login': 'PaolaKarina', 'id': 72129520, 'node...   \n",
       "2  {'login': 'VictorRodriguezIronhack', 'id': 576...   \n",
       "\n",
       "                                            html_url description  fork  \\\n",
       "0       https://github.com/acamposla/datamad1020-rev        None  True   \n",
       "1     https://github.com/PaolaKarina/datamad1020-rev        None  True   \n",
       "2  https://github.com/VictorRodriguezIronhack/dat...        None  True   \n",
       "\n",
       "                                                 url  ... forks_count  \\\n",
       "0  https://api.github.com/repos/acamposla/datamad...  ...           0   \n",
       "1  https://api.github.com/repos/PaolaKarina/datam...  ...           0   \n",
       "2  https://api.github.com/repos/VictorRodriguezIr...  ...           0   \n",
       "\n",
       "  mirror_url archived disabled open_issues_count  \\\n",
       "0       None    False    False                 0   \n",
       "1       None    False    False                 0   \n",
       "2       None    False    False                 0   \n",
       "\n",
       "                                             license forks open_issues  \\\n",
       "0  {'key': 'agpl-3.0', 'name': 'GNU Affero Genera...     0           0   \n",
       "1  {'key': 'agpl-3.0', 'name': 'GNU Affero Genera...     0           0   \n",
       "2  {'key': 'agpl-3.0', 'name': 'GNU Affero Genera...     0           0   \n",
       "\n",
       "  watchers default_branch  \n",
       "0        0         master  \n",
       "1        0         master  \n",
       "2        0         master  \n",
       "\n",
       "[3 rows x 73 columns]"
      ]
     },
     "execution_count": 14,
     "metadata": {},
     "output_type": "execute_result"
    }
   ],
   "source": [
    "df = pd.DataFrame(resp)\n",
    "df.head(3)"
   ]
  },
  {
   "cell_type": "code",
   "execution_count": 15,
   "metadata": {},
   "outputs": [],
   "source": [
    "all_forks = list(df.url)"
   ]
  },
  {
   "cell_type": "code",
   "execution_count": 16,
   "metadata": {},
   "outputs": [
    {
     "data": {
      "text/plain": [
       "['https://api.github.com/repos/acamposla/datamad1020-rev',\n",
       " 'https://api.github.com/repos/PaolaKarina/datamad1020-rev',\n",
       " 'https://api.github.com/repos/VictorRodriguezIronhack/datamad1020-rev',\n",
       " 'https://api.github.com/repos/sonia-quintanar/datamad1020-rev',\n",
       " 'https://api.github.com/repos/jperezllorente/datamad1020-rev',\n",
       " 'https://api.github.com/repos/AnaMA96/datamad1020-rev',\n",
       " 'https://api.github.com/repos/breogann/datamad1020-rev',\n",
       " 'https://api.github.com/repos/rafadedubra/datamad1020-rev',\n",
       " 'https://api.github.com/repos/Nuria-Pe/datamad1020-rev',\n",
       " 'https://api.github.com/repos/SergioCaler0/datamad1020-rev',\n",
       " 'https://api.github.com/repos/LucianaLescano/datamad1020-rev',\n",
       " 'https://api.github.com/repos/Mario-Sainz/datamad1020-rev',\n",
       " 'https://api.github.com/repos/juanmarin00/datamad1020-rev',\n",
       " 'https://api.github.com/repos/JoseManuel-G/datamad1020-rev',\n",
       " 'https://api.github.com/repos/jesus-perez-366/datamad1020-rev',\n",
       " 'https://api.github.com/repos/sgonzalainen/datamad1020-rev',\n",
       " 'https://api.github.com/repos/Pptrv/datamad1020-rev',\n",
       " 'https://api.github.com/repos/Marxess/datamad1020-rev',\n",
       " 'https://api.github.com/repos/patri-carrasco/datamad1020-rev',\n",
       " 'https://api.github.com/repos/BlueJotas/datamad1020-rev',\n",
       " 'https://api.github.com/repos/jvazquezgalvezlp/datamad1020-rev',\n",
       " 'https://api.github.com/repos/leticia-sobrino/datamad1020-rev',\n",
       " 'https://api.github.com/repos/JaimeCalcedo/datamad1020-rev']"
      ]
     },
     "execution_count": 16,
     "metadata": {},
     "output_type": "execute_result"
    }
   ],
   "source": [
    "all_forks"
   ]
  },
  {
   "cell_type": "code",
   "execution_count": null,
   "metadata": {},
   "outputs": [],
   "source": []
  },
  {
   "cell_type": "markdown",
   "metadata": {},
   "source": [
    "### Challange 1.2"
   ]
  },
  {
   "cell_type": "markdown",
   "metadata": {},
   "source": [
    "2. Loop the JSON response to find out the language attribute of each fork. Use an array to store the language attributes of each fork.\n",
    "\n",
    "Hint: Each language should appear only once in your array."
   ]
  },
  {
   "cell_type": "code",
   "execution_count": 17,
   "metadata": {},
   "outputs": [
    {
     "data": {
      "text/plain": [
       "0                 None\n",
       "1                 None\n",
       "2                 None\n",
       "3     Jupyter Notebook\n",
       "4     Jupyter Notebook\n",
       "5     Jupyter Notebook\n",
       "6     Jupyter Notebook\n",
       "7     Jupyter Notebook\n",
       "8     Jupyter Notebook\n",
       "9     Jupyter Notebook\n",
       "10    Jupyter Notebook\n",
       "11    Jupyter Notebook\n",
       "12    Jupyter Notebook\n",
       "13    Jupyter Notebook\n",
       "14    Jupyter Notebook\n",
       "15    Jupyter Notebook\n",
       "16    Jupyter Notebook\n",
       "17    Jupyter Notebook\n",
       "18    Jupyter Notebook\n",
       "19    Jupyter Notebook\n",
       "20    Jupyter Notebook\n",
       "21    Jupyter Notebook\n",
       "22    Jupyter Notebook\n",
       "Name: language, dtype: object"
      ]
     },
     "execution_count": 17,
     "metadata": {},
     "output_type": "execute_result"
    }
   ],
   "source": [
    "df['language']"
   ]
  },
  {
   "cell_type": "code",
   "execution_count": 18,
   "metadata": {},
   "outputs": [
    {
     "data": {
      "text/plain": [
       "{'https://api.github.com/repos/AnaMA96/datamad1020-rev/languages',\n",
       " 'https://api.github.com/repos/BlueJotas/datamad1020-rev/languages',\n",
       " 'https://api.github.com/repos/JaimeCalcedo/datamad1020-rev/languages',\n",
       " 'https://api.github.com/repos/JoseManuel-G/datamad1020-rev/languages',\n",
       " 'https://api.github.com/repos/LucianaLescano/datamad1020-rev/languages',\n",
       " 'https://api.github.com/repos/Mario-Sainz/datamad1020-rev/languages',\n",
       " 'https://api.github.com/repos/Marxess/datamad1020-rev/languages',\n",
       " 'https://api.github.com/repos/Nuria-Pe/datamad1020-rev/languages',\n",
       " 'https://api.github.com/repos/PaolaKarina/datamad1020-rev/languages',\n",
       " 'https://api.github.com/repos/Pptrv/datamad1020-rev/languages',\n",
       " 'https://api.github.com/repos/SergioCaler0/datamad1020-rev/languages',\n",
       " 'https://api.github.com/repos/VictorRodriguezIronhack/datamad1020-rev/languages',\n",
       " 'https://api.github.com/repos/acamposla/datamad1020-rev/languages',\n",
       " 'https://api.github.com/repos/breogann/datamad1020-rev/languages',\n",
       " 'https://api.github.com/repos/jesus-perez-366/datamad1020-rev/languages',\n",
       " 'https://api.github.com/repos/jperezllorente/datamad1020-rev/languages',\n",
       " 'https://api.github.com/repos/juanmarin00/datamad1020-rev/languages',\n",
       " 'https://api.github.com/repos/jvazquezgalvezlp/datamad1020-rev/languages',\n",
       " 'https://api.github.com/repos/leticia-sobrino/datamad1020-rev/languages',\n",
       " 'https://api.github.com/repos/patri-carrasco/datamad1020-rev/languages',\n",
       " 'https://api.github.com/repos/rafadedubra/datamad1020-rev/languages',\n",
       " 'https://api.github.com/repos/sgonzalainen/datamad1020-rev/languages',\n",
       " 'https://api.github.com/repos/sonia-quintanar/datamad1020-rev/languages'}"
      ]
     },
     "execution_count": 18,
     "metadata": {},
     "output_type": "execute_result"
    }
   ],
   "source": [
    "all_lang_url = set(df['languages_url'])\n",
    "all_lang_url"
   ]
  },
  {
   "cell_type": "code",
   "execution_count": 19,
   "metadata": {},
   "outputs": [
    {
     "data": {
      "text/plain": [
       "0     https://api.github.com/repos/acamposla/datamad...\n",
       "1     https://api.github.com/repos/PaolaKarina/datam...\n",
       "2     https://api.github.com/repos/VictorRodriguezIr...\n",
       "3     https://api.github.com/repos/sonia-quintanar/d...\n",
       "4     https://api.github.com/repos/jperezllorente/da...\n",
       "5     https://api.github.com/repos/AnaMA96/datamad10...\n",
       "6     https://api.github.com/repos/breogann/datamad1...\n",
       "7     https://api.github.com/repos/rafadedubra/datam...\n",
       "8     https://api.github.com/repos/Nuria-Pe/datamad1...\n",
       "9     https://api.github.com/repos/SergioCaler0/data...\n",
       "10    https://api.github.com/repos/LucianaLescano/da...\n",
       "11    https://api.github.com/repos/Mario-Sainz/datam...\n",
       "12    https://api.github.com/repos/juanmarin00/datam...\n",
       "13    https://api.github.com/repos/JoseManuel-G/data...\n",
       "14    https://api.github.com/repos/jesus-perez-366/d...\n",
       "15    https://api.github.com/repos/sgonzalainen/data...\n",
       "16    https://api.github.com/repos/Pptrv/datamad1020...\n",
       "17    https://api.github.com/repos/Marxess/datamad10...\n",
       "18    https://api.github.com/repos/patri-carrasco/da...\n",
       "19    https://api.github.com/repos/BlueJotas/datamad...\n",
       "20    https://api.github.com/repos/jvazquezgalvezlp/...\n",
       "21    https://api.github.com/repos/leticia-sobrino/d...\n",
       "22    https://api.github.com/repos/JaimeCalcedo/data...\n",
       "Name: languages_url, dtype: object"
      ]
     },
     "execution_count": 19,
     "metadata": {},
     "output_type": "execute_result"
    }
   ],
   "source": [
    "df['languages_url']"
   ]
  },
  {
   "cell_type": "markdown",
   "metadata": {},
   "source": [
    "### Challange 1.3"
   ]
  },
  {
   "cell_type": "markdown",
   "metadata": {},
   "source": [
    "3. Print the language array. It should be something like:\n",
    "\n",
    "[\"Python\", \"Jupyter Notebook\", \"HTML\"]"
   ]
  },
  {
   "cell_type": "code",
   "execution_count": 20,
   "metadata": {},
   "outputs": [
    {
     "name": "stdout",
     "output_type": "stream",
     "text": [
      "['Jupyter Notebook', None]\n"
     ]
    }
   ],
   "source": [
    "set_lang = set(df['language'])\n",
    "lst_lang = list(set_lang)\n",
    "print(lst_lang)"
   ]
  },
  {
   "cell_type": "code",
   "execution_count": null,
   "metadata": {},
   "outputs": [],
   "source": []
  },
  {
   "cell_type": "markdown",
   "metadata": {},
   "source": [
    "### Challenge 2: Count Commits\n"
   ]
  },
  {
   "cell_type": "markdown",
   "metadata": {},
   "source": [
    "2. Count how many commits were made in the past week."
   ]
  },
  {
   "cell_type": "markdown",
   "metadata": {},
   "source": [
    "2.1 Obtain all the commits made in the past week via API, which is a JSON array that contains multiple commit objects."
   ]
  },
  {
   "cell_type": "markdown",
   "metadata": {},
   "source": [
    "2.2 Count how many commit objects are contained in the array."
   ]
  },
  {
   "cell_type": "code",
   "execution_count": 21,
   "metadata": {},
   "outputs": [],
   "source": [
    "url_commits='https://api.github.com/repos/ironhack-datalabs/datamad1020-rev/commits?since=2021-04-01T00:00:00Z'"
   ]
  },
  {
   "cell_type": "code",
   "execution_count": 22,
   "metadata": {},
   "outputs": [],
   "source": [
    "parameters = {\"Authorization\": f\"token{api_key}\"}"
   ]
  },
  {
   "cell_type": "code",
   "execution_count": 23,
   "metadata": {},
   "outputs": [],
   "source": [
    "response = requests.get(url_commits,parameters)"
   ]
  },
  {
   "cell_type": "code",
   "execution_count": 24,
   "metadata": {},
   "outputs": [
    {
     "data": {
      "text/plain": [
       "<Response [200]>"
      ]
     },
     "execution_count": 24,
     "metadata": {},
     "output_type": "execute_result"
    }
   ],
   "source": [
    "response"
   ]
  },
  {
   "cell_type": "code",
   "execution_count": 25,
   "metadata": {},
   "outputs": [],
   "source": [
    "resp1 = response.json()"
   ]
  },
  {
   "cell_type": "code",
   "execution_count": 26,
   "metadata": {
    "scrolled": true
   },
   "outputs": [
    {
     "data": {
      "text/plain": [
       "0"
      ]
     },
     "execution_count": 26,
     "metadata": {},
     "output_type": "execute_result"
    }
   ],
   "source": [
    "len(resp1)"
   ]
  },
  {
   "cell_type": "code",
   "execution_count": 34,
   "metadata": {},
   "outputs": [],
   "source": [
    "### 2.1 NONE WERE MADE THE PAST WEEK: going to show commits for 2021\n",
    " "
   ]
  },
  {
   "cell_type": "code",
   "execution_count": 35,
   "metadata": {},
   "outputs": [],
   "source": [
    "url_commits='https://api.github.com/repos/ironhack-datalabs/datamad1020-rev/commits?since=2021-01-01T00:00:00Z'"
   ]
  },
  {
   "cell_type": "code",
   "execution_count": 36,
   "metadata": {},
   "outputs": [],
   "source": [
    "parameters = {\"Authorization\": f\"token{api_key}\"}"
   ]
  },
  {
   "cell_type": "code",
   "execution_count": 37,
   "metadata": {},
   "outputs": [],
   "source": [
    "response = requests.get(url_commits,parameters)"
   ]
  },
  {
   "cell_type": "code",
   "execution_count": 38,
   "metadata": {},
   "outputs": [
    {
     "data": {
      "text/plain": [
       "<Response [200]>"
      ]
     },
     "execution_count": 38,
     "metadata": {},
     "output_type": "execute_result"
    }
   ],
   "source": [
    "response"
   ]
  },
  {
   "cell_type": "code",
   "execution_count": 39,
   "metadata": {},
   "outputs": [],
   "source": [
    "resp1 = response.json()"
   ]
  },
  {
   "cell_type": "code",
   "execution_count": 40,
   "metadata": {},
   "outputs": [
    {
     "data": {
      "text/plain": [
       "[{'sha': '04bc51c0a75f3e6604fe7ac41da8b3c69919f7c3',\n",
       "  'node_id': 'MDY6Q29tbWl0MzA0MjQ4NTM5OjA0YmM1MWMwYTc1ZjNlNjYwNGZlN2FjNDFkYThiM2M2OTkxOWY3YzM=',\n",
       "  'commit': {'author': {'name': 'Ras Soyungalgo',\n",
       "    'email': 'agalvezcorell@gmail.com',\n",
       "    'date': '2021-03-24T18:55:39Z'},\n",
       "   'committer': {'name': 'Ras Soyungalgo',\n",
       "    'email': 'agalvezcorell@gmail.com',\n",
       "    'date': '2021-03-24T18:55:39Z'},\n",
       "   'message': 'Hola datamad Part Time ♥️',\n",
       "   'tree': {'sha': '872b8a740d18c3a9abe469f1df7a7c4b26016c48',\n",
       "    'url': 'https://api.github.com/repos/ironhack-datalabs/datamad1020-rev/git/trees/872b8a740d18c3a9abe469f1df7a7c4b26016c48'},\n",
       "   'url': 'https://api.github.com/repos/ironhack-datalabs/datamad1020-rev/git/commits/04bc51c0a75f3e6604fe7ac41da8b3c69919f7c3',\n",
       "   'comment_count': 0,\n",
       "   'verification': {'verified': False,\n",
       "    'reason': 'unsigned',\n",
       "    'signature': None,\n",
       "    'payload': None}},\n",
       "  'url': 'https://api.github.com/repos/ironhack-datalabs/datamad1020-rev/commits/04bc51c0a75f3e6604fe7ac41da8b3c69919f7c3',\n",
       "  'html_url': 'https://github.com/ironhack-datalabs/datamad1020-rev/commit/04bc51c0a75f3e6604fe7ac41da8b3c69919f7c3',\n",
       "  'comments_url': 'https://api.github.com/repos/ironhack-datalabs/datamad1020-rev/commits/04bc51c0a75f3e6604fe7ac41da8b3c69919f7c3/comments',\n",
       "  'author': {'login': 'agalvezcorell',\n",
       "   'id': 57899051,\n",
       "   'node_id': 'MDQ6VXNlcjU3ODk5MDUx',\n",
       "   'avatar_url': 'https://avatars.githubusercontent.com/u/57899051?v=4',\n",
       "   'gravatar_id': '',\n",
       "   'url': 'https://api.github.com/users/agalvezcorell',\n",
       "   'html_url': 'https://github.com/agalvezcorell',\n",
       "   'followers_url': 'https://api.github.com/users/agalvezcorell/followers',\n",
       "   'following_url': 'https://api.github.com/users/agalvezcorell/following{/other_user}',\n",
       "   'gists_url': 'https://api.github.com/users/agalvezcorell/gists{/gist_id}',\n",
       "   'starred_url': 'https://api.github.com/users/agalvezcorell/starred{/owner}{/repo}',\n",
       "   'subscriptions_url': 'https://api.github.com/users/agalvezcorell/subscriptions',\n",
       "   'organizations_url': 'https://api.github.com/users/agalvezcorell/orgs',\n",
       "   'repos_url': 'https://api.github.com/users/agalvezcorell/repos',\n",
       "   'events_url': 'https://api.github.com/users/agalvezcorell/events{/privacy}',\n",
       "   'received_events_url': 'https://api.github.com/users/agalvezcorell/received_events',\n",
       "   'type': 'User',\n",
       "   'site_admin': False},\n",
       "  'committer': {'login': 'agalvezcorell',\n",
       "   'id': 57899051,\n",
       "   'node_id': 'MDQ6VXNlcjU3ODk5MDUx',\n",
       "   'avatar_url': 'https://avatars.githubusercontent.com/u/57899051?v=4',\n",
       "   'gravatar_id': '',\n",
       "   'url': 'https://api.github.com/users/agalvezcorell',\n",
       "   'html_url': 'https://github.com/agalvezcorell',\n",
       "   'followers_url': 'https://api.github.com/users/agalvezcorell/followers',\n",
       "   'following_url': 'https://api.github.com/users/agalvezcorell/following{/other_user}',\n",
       "   'gists_url': 'https://api.github.com/users/agalvezcorell/gists{/gist_id}',\n",
       "   'starred_url': 'https://api.github.com/users/agalvezcorell/starred{/owner}{/repo}',\n",
       "   'subscriptions_url': 'https://api.github.com/users/agalvezcorell/subscriptions',\n",
       "   'organizations_url': 'https://api.github.com/users/agalvezcorell/orgs',\n",
       "   'repos_url': 'https://api.github.com/users/agalvezcorell/repos',\n",
       "   'events_url': 'https://api.github.com/users/agalvezcorell/events{/privacy}',\n",
       "   'received_events_url': 'https://api.github.com/users/agalvezcorell/received_events',\n",
       "   'type': 'User',\n",
       "   'site_admin': False},\n",
       "  'parents': [{'sha': '62ccb107c540872cb332b10768b890040fb50c1f',\n",
       "    'url': 'https://api.github.com/repos/ironhack-datalabs/datamad1020-rev/commits/62ccb107c540872cb332b10768b890040fb50c1f',\n",
       "    'html_url': 'https://github.com/ironhack-datalabs/datamad1020-rev/commit/62ccb107c540872cb332b10768b890040fb50c1f'}]},\n",
       " {'sha': '62ccb107c540872cb332b10768b890040fb50c1f',\n",
       "  'node_id': 'MDY6Q29tbWl0MzA0MjQ4NTM5OjYyY2NiMTA3YzU0MDg3MmNiMzMyYjEwNzY4Yjg5MDA0MGZiNTBjMWY=',\n",
       "  'commit': {'author': {'name': 'Ras Soyungalgo',\n",
       "    'email': 'agalvezcorell@gmail.com',\n",
       "    'date': '2021-01-26T13:00:09Z'},\n",
       "   'committer': {'name': 'Ras Soyungalgo',\n",
       "    'email': 'agalvezcorell@gmail.com',\n",
       "    'date': '2021-01-26T13:00:09Z'},\n",
       "   'message': 'edito challenge1 sin cambios, solo comment',\n",
       "   'tree': {'sha': '1fb3ebfb5f65d6ec77ea4b1666b95f5e6e09ac63',\n",
       "    'url': 'https://api.github.com/repos/ironhack-datalabs/datamad1020-rev/git/trees/1fb3ebfb5f65d6ec77ea4b1666b95f5e6e09ac63'},\n",
       "   'url': 'https://api.github.com/repos/ironhack-datalabs/datamad1020-rev/git/commits/62ccb107c540872cb332b10768b890040fb50c1f',\n",
       "   'comment_count': 0,\n",
       "   'verification': {'verified': False,\n",
       "    'reason': 'unsigned',\n",
       "    'signature': None,\n",
       "    'payload': None}},\n",
       "  'url': 'https://api.github.com/repos/ironhack-datalabs/datamad1020-rev/commits/62ccb107c540872cb332b10768b890040fb50c1f',\n",
       "  'html_url': 'https://github.com/ironhack-datalabs/datamad1020-rev/commit/62ccb107c540872cb332b10768b890040fb50c1f',\n",
       "  'comments_url': 'https://api.github.com/repos/ironhack-datalabs/datamad1020-rev/commits/62ccb107c540872cb332b10768b890040fb50c1f/comments',\n",
       "  'author': {'login': 'agalvezcorell',\n",
       "   'id': 57899051,\n",
       "   'node_id': 'MDQ6VXNlcjU3ODk5MDUx',\n",
       "   'avatar_url': 'https://avatars.githubusercontent.com/u/57899051?v=4',\n",
       "   'gravatar_id': '',\n",
       "   'url': 'https://api.github.com/users/agalvezcorell',\n",
       "   'html_url': 'https://github.com/agalvezcorell',\n",
       "   'followers_url': 'https://api.github.com/users/agalvezcorell/followers',\n",
       "   'following_url': 'https://api.github.com/users/agalvezcorell/following{/other_user}',\n",
       "   'gists_url': 'https://api.github.com/users/agalvezcorell/gists{/gist_id}',\n",
       "   'starred_url': 'https://api.github.com/users/agalvezcorell/starred{/owner}{/repo}',\n",
       "   'subscriptions_url': 'https://api.github.com/users/agalvezcorell/subscriptions',\n",
       "   'organizations_url': 'https://api.github.com/users/agalvezcorell/orgs',\n",
       "   'repos_url': 'https://api.github.com/users/agalvezcorell/repos',\n",
       "   'events_url': 'https://api.github.com/users/agalvezcorell/events{/privacy}',\n",
       "   'received_events_url': 'https://api.github.com/users/agalvezcorell/received_events',\n",
       "   'type': 'User',\n",
       "   'site_admin': False},\n",
       "  'committer': {'login': 'agalvezcorell',\n",
       "   'id': 57899051,\n",
       "   'node_id': 'MDQ6VXNlcjU3ODk5MDUx',\n",
       "   'avatar_url': 'https://avatars.githubusercontent.com/u/57899051?v=4',\n",
       "   'gravatar_id': '',\n",
       "   'url': 'https://api.github.com/users/agalvezcorell',\n",
       "   'html_url': 'https://github.com/agalvezcorell',\n",
       "   'followers_url': 'https://api.github.com/users/agalvezcorell/followers',\n",
       "   'following_url': 'https://api.github.com/users/agalvezcorell/following{/other_user}',\n",
       "   'gists_url': 'https://api.github.com/users/agalvezcorell/gists{/gist_id}',\n",
       "   'starred_url': 'https://api.github.com/users/agalvezcorell/starred{/owner}{/repo}',\n",
       "   'subscriptions_url': 'https://api.github.com/users/agalvezcorell/subscriptions',\n",
       "   'organizations_url': 'https://api.github.com/users/agalvezcorell/orgs',\n",
       "   'repos_url': 'https://api.github.com/users/agalvezcorell/repos',\n",
       "   'events_url': 'https://api.github.com/users/agalvezcorell/events{/privacy}',\n",
       "   'received_events_url': 'https://api.github.com/users/agalvezcorell/received_events',\n",
       "   'type': 'User',\n",
       "   'site_admin': False},\n",
       "  'parents': [{'sha': 'f3a48ac39f43cb8130695180360f5644eeefd309',\n",
       "    'url': 'https://api.github.com/repos/ironhack-datalabs/datamad1020-rev/commits/f3a48ac39f43cb8130695180360f5644eeefd309',\n",
       "    'html_url': 'https://github.com/ironhack-datalabs/datamad1020-rev/commit/f3a48ac39f43cb8130695180360f5644eeefd309'}]}]"
      ]
     },
     "execution_count": 40,
     "metadata": {},
     "output_type": "execute_result"
    }
   ],
   "source": [
    "resp1"
   ]
  },
  {
   "cell_type": "code",
   "execution_count": 41,
   "metadata": {
    "scrolled": true
   },
   "outputs": [
    {
     "data": {
      "text/plain": [
       "2"
      ]
     },
     "execution_count": 41,
     "metadata": {},
     "output_type": "execute_result"
    }
   ],
   "source": [
    "len(resp1)"
   ]
  },
  {
   "cell_type": "code",
   "execution_count": 42,
   "metadata": {},
   "outputs": [],
   "source": [
    "url_how_many='https://api.github.com/rate_limit'"
   ]
  },
  {
   "cell_type": "code",
   "execution_count": 43,
   "metadata": {},
   "outputs": [],
   "source": [
    "params = {\"Authorization\": f\"token{api_key}\"}"
   ]
  },
  {
   "cell_type": "code",
   "execution_count": 44,
   "metadata": {},
   "outputs": [],
   "source": [
    "response = requests.get(url_how_many, params)"
   ]
  },
  {
   "cell_type": "code",
   "execution_count": 45,
   "metadata": {},
   "outputs": [
    {
     "data": {
      "text/plain": [
       "<Response [200]>"
      ]
     },
     "execution_count": 45,
     "metadata": {},
     "output_type": "execute_result"
    }
   ],
   "source": [
    "response"
   ]
  },
  {
   "cell_type": "code",
   "execution_count": 46,
   "metadata": {},
   "outputs": [],
   "source": [
    "rate_limit = response.json()"
   ]
  },
  {
   "cell_type": "code",
   "execution_count": 47,
   "metadata": {},
   "outputs": [
    {
     "data": {
      "text/plain": [
       "{'resources': {'core': {'limit': 60,\n",
       "   'remaining': 59,\n",
       "   'reset': 1617900994,\n",
       "   'used': 1},\n",
       "  'graphql': {'limit': 0, 'remaining': 0, 'reset': 1617901004, 'used': 0},\n",
       "  'integration_manifest': {'limit': 5000,\n",
       "   'remaining': 5000,\n",
       "   'reset': 1617901004,\n",
       "   'used': 0},\n",
       "  'search': {'limit': 10, 'remaining': 10, 'reset': 1617897464, 'used': 0}},\n",
       " 'rate': {'limit': 60, 'remaining': 59, 'reset': 1617900994, 'used': 1}}"
      ]
     },
     "execution_count": 47,
     "metadata": {},
     "output_type": "execute_result"
    }
   ],
   "source": [
    "rate_limit"
   ]
  },
  {
   "cell_type": "code",
   "execution_count": null,
   "metadata": {},
   "outputs": [],
   "source": []
  },
  {
   "cell_type": "code",
   "execution_count": null,
   "metadata": {},
   "outputs": [],
   "source": []
  },
  {
   "cell_type": "code",
   "execution_count": null,
   "metadata": {},
   "outputs": [],
   "source": []
  },
  {
   "cell_type": "code",
   "execution_count": null,
   "metadata": {},
   "outputs": [],
   "source": []
  },
  {
   "cell_type": "code",
   "execution_count": null,
   "metadata": {},
   "outputs": [],
   "source": []
  },
  {
   "cell_type": "code",
   "execution_count": null,
   "metadata": {},
   "outputs": [],
   "source": []
  },
  {
   "cell_type": "code",
   "execution_count": null,
   "metadata": {},
   "outputs": [],
   "source": []
  },
  {
   "cell_type": "code",
   "execution_count": null,
   "metadata": {},
   "outputs": [],
   "source": []
  },
  {
   "cell_type": "code",
   "execution_count": null,
   "metadata": {},
   "outputs": [],
   "source": []
  },
  {
   "cell_type": "code",
   "execution_count": null,
   "metadata": {},
   "outputs": [],
   "source": []
  },
  {
   "cell_type": "code",
   "execution_count": null,
   "metadata": {},
   "outputs": [],
   "source": []
  },
  {
   "cell_type": "code",
   "execution_count": null,
   "metadata": {},
   "outputs": [],
   "source": []
  },
  {
   "cell_type": "code",
   "execution_count": null,
   "metadata": {},
   "outputs": [],
   "source": [
    "normal = json_normalize(resp)"
   ]
  },
  {
   "cell_type": "code",
   "execution_count": null,
   "metadata": {},
   "outputs": [],
   "source": []
  }
 ],
 "metadata": {
  "kernelspec": {
   "display_name": "Python 3",
   "language": "python",
   "name": "python3"
  },
  "language_info": {
   "codemirror_mode": {
    "name": "ipython",
    "version": 3
   },
   "file_extension": ".py",
   "mimetype": "text/x-python",
   "name": "python",
   "nbconvert_exporter": "python",
   "pygments_lexer": "ipython3",
   "version": "3.8.5"
  },
  "toc": {
   "base_numbering": 1,
   "nav_menu": {},
   "number_sections": false,
   "sideBar": true,
   "skip_h1_title": true,
   "title_cell": "Table of Contents",
   "title_sidebar": "Contents",
   "toc_cell": false,
   "toc_position": {
    "height": "calc(100% - 180px)",
    "left": "10px",
    "top": "150px",
    "width": "303.242px"
   },
   "toc_section_display": true,
   "toc_window_display": false
  },
  "varInspector": {
   "cols": {
    "lenName": 16,
    "lenType": 16,
    "lenVar": 40
   },
   "kernels_config": {
    "python": {
     "delete_cmd_postfix": "",
     "delete_cmd_prefix": "del ",
     "library": "var_list.py",
     "varRefreshCmd": "print(var_dic_list())"
    },
    "r": {
     "delete_cmd_postfix": ") ",
     "delete_cmd_prefix": "rm(",
     "library": "var_list.r",
     "varRefreshCmd": "cat(var_dic_list()) "
    }
   },
   "types_to_exclude": [
    "module",
    "function",
    "builtin_function_or_method",
    "instance",
    "_Feature"
   ],
   "window_display": false
  }
 },
 "nbformat": 4,
 "nbformat_minor": 2
}
