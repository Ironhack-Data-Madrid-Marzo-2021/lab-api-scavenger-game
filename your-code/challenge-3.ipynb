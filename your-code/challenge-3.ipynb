{
 "cells": [
  {
   "cell_type": "markdown",
   "id": "defensive-clock",
   "metadata": {},
   "source": [
    "# Challenge 3: Hidden Cold Joke\n",
    "\n",
    "Using Python, call Github API to find out the cold joke contained in the 24 secret files in the following repo:\n",
    "\n",
    "https://github.com/ironhack-datalabs/scavenger\n",
    "\n",
    "The filenames of the secret files contain .scavengerhunt and they are scattered in different directories of this repo. The secret files are named from .0001.scavengerhunt to .0024.scavengerhunt. They are scattered randomly throughout this repo. You need to search for these files by calling the Github API, not searching the local files on your computer.\n",
    "\n",
    "\n",
    "After you find out the secrete files:\n",
    "\n",
    "Sort the filenames ascendingly.\n",
    "\n",
    "Read the content of each secret files into an array of strings.\n",
    "\n",
    "Concatenate the strings in the array separating each two with a whitespace.\n",
    "\n",
    "Print out the joke."
   ]
  },
  {
   "cell_type": "markdown",
   "id": "universal-length",
   "metadata": {},
   "source": [
    "⚠️ **Remember to limit your output before submission**."
   ]
  },
  {
   "cell_type": "code",
   "execution_count": 8,
   "id": "toxic-trading",
   "metadata": {},
   "outputs": [],
   "source": [
    "import os\n",
    "from dotenv import load_dotenv\n",
    "load_dotenv()\n",
    "import json\n",
    "import requests\n",
    "token=os.getenv(\"token\")\n",
    "url_='https://api.github.com/repos/ironhack-datalabs/scavenger/git/trees/0d82bf748275dbc1239a11e9157b198d88da7383?recursive=1'\n",
    "    \n",
    "params_ = {'Authorization':f\"token {token}\"}\n"
   ]
  },
  {
   "cell_type": "code",
   "execution_count": 9,
   "id": "breeding-webster",
   "metadata": {
    "scrolled": false
   },
   "outputs": [],
   "source": [
    "respuesta = requests.get(url = url_, params = params_).json()\n"
   ]
  },
  {
   "cell_type": "code",
   "execution_count": 12,
   "id": "personal-black",
   "metadata": {},
   "outputs": [
    {
     "data": {
      "text/plain": [
       "{'message': \"API rate limit exceeded for 83.138.193.186. (But here's the good news: Authenticated requests get a higher rate limit. Check out the documentation for more details.)\",\n",
       " 'documentation_url': 'https://docs.github.com/rest/overview/resources-in-the-rest-api#rate-limiting'}"
      ]
     },
     "execution_count": 12,
     "metadata": {},
     "output_type": "execute_result"
    }
   ],
   "source": [
    "respuesta"
   ]
  },
  {
   "cell_type": "code",
   "execution_count": 11,
   "id": "specific-juice",
   "metadata": {},
   "outputs": [
    {
     "ename": "TypeError",
     "evalue": "string indices must be integers",
     "output_type": "error",
     "traceback": [
      "\u001b[0;31m---------------------------------------------------------------------------\u001b[0m",
      "\u001b[0;31mTypeError\u001b[0m                                 Traceback (most recent call last)",
      "\u001b[0;32m<ipython-input-11-66ef2a35c96d>\u001b[0m in \u001b[0;36m<module>\u001b[0;34m\u001b[0m\n\u001b[1;32m      1\u001b[0m \u001b[0murl_dir\u001b[0m\u001b[0;34m=\u001b[0m\u001b[0;34m[\u001b[0m\u001b[0;34m]\u001b[0m\u001b[0;34m\u001b[0m\u001b[0;34m\u001b[0m\u001b[0m\n\u001b[1;32m      2\u001b[0m \u001b[0;32mfor\u001b[0m \u001b[0mr\u001b[0m \u001b[0;32min\u001b[0m \u001b[0mrespuesta\u001b[0m\u001b[0;34m:\u001b[0m\u001b[0;34m\u001b[0m\u001b[0;34m\u001b[0m\u001b[0m\n\u001b[0;32m----> 3\u001b[0;31m     \u001b[0;32mif\u001b[0m \u001b[0mr\u001b[0m\u001b[0;34m[\u001b[0m\u001b[0;34m'type'\u001b[0m\u001b[0;34m]\u001b[0m\u001b[0;34m==\u001b[0m\u001b[0;34m'tree'\u001b[0m\u001b[0;34m:\u001b[0m\u001b[0;34m\u001b[0m\u001b[0;34m\u001b[0m\u001b[0m\n\u001b[0m\u001b[1;32m      4\u001b[0m         \u001b[0murl_dir\u001b[0m\u001b[0;34m.\u001b[0m\u001b[0mappend\u001b[0m\u001b[0;34m(\u001b[0m\u001b[0mr\u001b[0m\u001b[0;34m[\u001b[0m\u001b[0;34m'url'\u001b[0m\u001b[0;34m]\u001b[0m\u001b[0;34m)\u001b[0m\u001b[0;34m\u001b[0m\u001b[0;34m\u001b[0m\u001b[0m\n\u001b[1;32m      5\u001b[0m \u001b[0murl_dir\u001b[0m\u001b[0;34m\u001b[0m\u001b[0;34m\u001b[0m\u001b[0m\n",
      "\u001b[0;31mTypeError\u001b[0m: string indices must be integers"
     ]
    }
   ],
   "source": [
    "\n",
    "url_dir=[]\n",
    "for r in respuesta:\n",
    "    if r['type']=='tree':\n",
    "        respuestascarpeta.append(requests.get(url = r['url'], params = params_).json())\n",
    "\n",
    "url_dir"
   ]
  },
  {
   "cell_type": "code",
   "execution_count": null,
   "id": "chronic-ridge",
   "metadata": {},
   "outputs": [],
   "source": [
    "respuestascarpeta=[]\n",
    "for url_ in url_dir:\n",
    "    time.sleep(1)\n"
   ]
  },
  {
   "cell_type": "code",
   "execution_count": null,
   "id": "south-brush",
   "metadata": {},
   "outputs": [],
   "source": [
    "#df.drop(df[df.type!='tree'].index)"
   ]
  },
  {
   "cell_type": "code",
   "execution_count": null,
   "id": "global-physics",
   "metadata": {},
   "outputs": [],
   "source": [
    "\n",
    "sha"
   ]
  },
  {
   "cell_type": "code",
   "execution_count": null,
   "id": "adult-spirituality",
   "metadata": {},
   "outputs": [],
   "source": [
    "import time\n",
    "\n",
    "def busca_sha_carpetas(sha):\n",
    "    urlcarpetas=('https://api.github.com/repos/ironhack-datalabs/scavenger/git/trees/'+ sha)\n",
    "    time.sleep(0.9)\n",
    "    return (requests.get(url = urlcarpetas, params = params_).json())\n",
    "\n",
    "def busca_sha_archivo(sha):\n",
    "    urlarcvhivo=('https://api.github.com/repos/ironhack-datalabs/scavenger/git/trees/'+ sha)\n",
    "    time.sleep(0.9)\n",
    "    (requests.get(url = urlarcvhivo, params = params_).json())\n",
    "\n",
    "def aplica_limpia(df,func):\n",
    "    df2=df.apply(func)\n",
    "    df3=DataFrame(df2)\n",
    "    df3=df3[df3.type!='blob']"
   ]
  },
  {
   "cell_type": "code",
   "execution_count": null,
   "id": "prerequisite-cemetery",
   "metadata": {},
   "outputs": [],
   "source": [
    "df=df[df.type!='blob']\n",
    "df=df[sha] # nos quedamos con los sha de las carpetas\n",
    "df2=df.apply(func)\n",
    "df3=DataFrame(df2)\n",
    "df3=df3[df3.type!='blob']\n",
    "\n"
   ]
  },
  {
   "cell_type": "code",
   "execution_count": null,
   "id": "provincial-feature",
   "metadata": {},
   "outputs": [],
   "source": []
  },
  {
   "cell_type": "code",
   "execution_count": null,
   "id": "editorial-childhood",
   "metadata": {},
   "outputs": [],
   "source": []
  },
  {
   "cell_type": "code",
   "execution_count": null,
   "id": "driven-gross",
   "metadata": {},
   "outputs": [],
   "source": []
  }
 ],
 "metadata": {
  "kernelspec": {
   "display_name": "Python 3",
   "language": "python",
   "name": "python3"
  },
  "language_info": {
   "codemirror_mode": {
    "name": "ipython",
    "version": 3
   },
   "file_extension": ".py",
   "mimetype": "text/x-python",
   "name": "python",
   "nbconvert_exporter": "python",
   "pygments_lexer": "ipython3",
   "version": "3.8.5"
  },
  "toc": {
   "base_numbering": 1,
   "nav_menu": {},
   "number_sections": true,
   "sideBar": true,
   "skip_h1_title": true,
   "title_cell": "Table of Contents",
   "title_sidebar": "Contents",
   "toc_cell": false,
   "toc_position": {},
   "toc_section_display": true,
   "toc_window_display": true
  }
 },
 "nbformat": 4,
 "nbformat_minor": 5
}
