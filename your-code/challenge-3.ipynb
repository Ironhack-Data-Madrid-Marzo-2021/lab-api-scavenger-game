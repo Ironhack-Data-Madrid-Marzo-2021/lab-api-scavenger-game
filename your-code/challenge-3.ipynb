{
 "cells": [
  {
   "cell_type": "markdown",
   "metadata": {},
   "source": [
    "# Challenge 3: Hidden Cold Joke\n",
    "\n",
    "Using Python, call Github API to find out the cold joke contained in the 24 secret files in the following repo:\n",
    "\n",
    "https://github.com/ironhack-datalabs/scavenger\n",
    "\n",
    "The filenames of the secret files contain .scavengerhunt and they are scattered in different directories of this repo. The secret files are named from .0001.scavengerhunt to .0024.scavengerhunt. They are scattered randomly throughout this repo. You need to search for these files by calling the Github API, not searching the local files on your computer.\n",
    "\n",
    "\n",
    "After you find out the secrete files:\n",
    "\n",
    "Sort the filenames ascendingly.\n",
    "\n",
    "Read the content of each secret files into an array of strings.\n",
    "\n",
    "Concatenate the strings in the array separating each two with a whitespace.\n",
    "\n",
    "Print out the joke."
   ]
  },
  {
   "cell_type": "markdown",
   "metadata": {},
   "source": [
    "⚠️ **Remember to limit your output before submission**."
   ]
  },
  {
   "cell_type": "code",
   "execution_count": 143,
   "metadata": {},
   "outputs": [],
   "source": [
    "import json\n",
    "import requests"
   ]
  },
  {
   "cell_type": "code",
   "execution_count": 144,
   "metadata": {},
   "outputs": [
    {
     "data": {
      "text/plain": [
       "True"
      ]
     },
     "execution_count": 144,
     "metadata": {},
     "output_type": "execute_result"
    }
   ],
   "source": [
    "import os\n",
    "from dotenv import load_dotenv\n",
    "load_dotenv()"
   ]
  },
  {
   "cell_type": "code",
   "execution_count": 145,
   "metadata": {},
   "outputs": [],
   "source": [
    "import pandas as pd"
   ]
  },
  {
   "cell_type": "code",
   "execution_count": 146,
   "metadata": {},
   "outputs": [],
   "source": [
    "api_key = os.getenv(\"token\")"
   ]
  },
  {
   "cell_type": "code",
   "execution_count": 147,
   "metadata": {},
   "outputs": [],
   "source": [
    "url =\"https://api.github.com/repos/ironhack-datalabs/scavenger/commits\""
   ]
  },
  {
   "cell_type": "code",
   "execution_count": 148,
   "metadata": {},
   "outputs": [],
   "source": [
    "parameters  = {\"Authorization\" : f\"token {api_key}\"}"
   ]
  },
  {
   "cell_type": "code",
   "execution_count": 149,
   "metadata": {},
   "outputs": [],
   "source": [
    "response = requests.get (url =  url, params = parameters).json()"
   ]
  },
  {
   "cell_type": "code",
   "execution_count": 150,
   "metadata": {},
   "outputs": [],
   "source": [
    "url_repos = \"https://api.github.com/search/code?q=filename:.scavengerhunt+repo:ironhack-datalabs/scavenger\""
   ]
  },
  {
   "cell_type": "code",
   "execution_count": 151,
   "metadata": {},
   "outputs": [],
   "source": [
    "response_ = requests.get (url =  url_repos, params = parameters).json()"
   ]
  },
  {
   "cell_type": "code",
   "execution_count": 152,
   "metadata": {},
   "outputs": [
    {
     "data": {
      "text/plain": [
       "['total_count', 'incomplete_results', 'items']"
      ]
     },
     "execution_count": 152,
     "metadata": {},
     "output_type": "execute_result"
    }
   ],
   "source": [
    "list(response_)"
   ]
  },
  {
   "cell_type": "code",
   "execution_count": 153,
   "metadata": {},
   "outputs": [],
   "source": [
    "list_of_dict = (response_['items'])"
   ]
  },
  {
   "cell_type": "code",
   "execution_count": 154,
   "metadata": {},
   "outputs": [],
   "source": [
    "file_url = {}\n",
    "for dict_ in list_of_dict:\n",
    "    file_url[dict_['name']] = dict_['url']\n",
    "file_text_sorted = dict(sorted(file_url.items()))"
   ]
  },
  {
   "cell_type": "code",
   "execution_count": 155,
   "metadata": {},
   "outputs": [
    {
     "data": {
      "text/plain": [
       "['https://raw.githubusercontent.com/ironhack-datalabs/scavenger/9308ccc8a4c34c5e3a991ee815222a9691c32476/98750/.0001.scavengerhunt',\n",
       " 'https://raw.githubusercontent.com/ironhack-datalabs/scavenger/9308ccc8a4c34c5e3a991ee815222a9691c32476/88596/.0002.scavengerhunt',\n",
       " 'https://raw.githubusercontent.com/ironhack-datalabs/scavenger/9308ccc8a4c34c5e3a991ee815222a9691c32476/60224/.0003.scavengerhunt',\n",
       " 'https://raw.githubusercontent.com/ironhack-datalabs/scavenger/9308ccc8a4c34c5e3a991ee815222a9691c32476/68848/.0004.scavengerhunt',\n",
       " 'https://raw.githubusercontent.com/ironhack-datalabs/scavenger/9308ccc8a4c34c5e3a991ee815222a9691c32476/44639/.0005.scavengerhunt',\n",
       " 'https://raw.githubusercontent.com/ironhack-datalabs/scavenger/9308ccc8a4c34c5e3a991ee815222a9691c32476/15024/.0006.scavengerhunt',\n",
       " 'https://raw.githubusercontent.com/ironhack-datalabs/scavenger/9308ccc8a4c34c5e3a991ee815222a9691c32476/17020/.0007.scavengerhunt',\n",
       " 'https://raw.githubusercontent.com/ironhack-datalabs/scavenger/9308ccc8a4c34c5e3a991ee815222a9691c32476/15534/.0008.scavengerhunt',\n",
       " 'https://raw.githubusercontent.com/ironhack-datalabs/scavenger/9308ccc8a4c34c5e3a991ee815222a9691c32476/97881/.0009.scavengerhunt',\n",
       " 'https://raw.githubusercontent.com/ironhack-datalabs/scavenger/9308ccc8a4c34c5e3a991ee815222a9691c32476/47830/.0010.scavengerhunt',\n",
       " 'https://raw.githubusercontent.com/ironhack-datalabs/scavenger/9308ccc8a4c34c5e3a991ee815222a9691c32476/50896/.0011.scavengerhunt',\n",
       " 'https://raw.githubusercontent.com/ironhack-datalabs/scavenger/9308ccc8a4c34c5e3a991ee815222a9691c32476/15534/.0012.scavengerhunt',\n",
       " 'https://raw.githubusercontent.com/ironhack-datalabs/scavenger/9308ccc8a4c34c5e3a991ee815222a9691c32476/89338/.0013.scavengerhunt',\n",
       " 'https://raw.githubusercontent.com/ironhack-datalabs/scavenger/9308ccc8a4c34c5e3a991ee815222a9691c32476/49418/.0014.scavengerhunt',\n",
       " 'https://raw.githubusercontent.com/ironhack-datalabs/scavenger/9308ccc8a4c34c5e3a991ee815222a9691c32476/91701/.0015.scavengerhunt',\n",
       " 'https://raw.githubusercontent.com/ironhack-datalabs/scavenger/9308ccc8a4c34c5e3a991ee815222a9691c32476/47222/.0016.scavengerhunt',\n",
       " 'https://raw.githubusercontent.com/ironhack-datalabs/scavenger/9308ccc8a4c34c5e3a991ee815222a9691c32476/70985/.0017.scavengerhunt',\n",
       " 'https://raw.githubusercontent.com/ironhack-datalabs/scavenger/9308ccc8a4c34c5e3a991ee815222a9691c32476/45525/.0018.scavengerhunt',\n",
       " 'https://raw.githubusercontent.com/ironhack-datalabs/scavenger/9308ccc8a4c34c5e3a991ee815222a9691c32476/70751/.0019.scavengerhunt',\n",
       " 'https://raw.githubusercontent.com/ironhack-datalabs/scavenger/9308ccc8a4c34c5e3a991ee815222a9691c32476/55685/.0020.scavengerhunt',\n",
       " 'https://raw.githubusercontent.com/ironhack-datalabs/scavenger/9308ccc8a4c34c5e3a991ee815222a9691c32476/30351/.0021.scavengerhunt',\n",
       " 'https://raw.githubusercontent.com/ironhack-datalabs/scavenger/9308ccc8a4c34c5e3a991ee815222a9691c32476/40303/.0022.scavengerhunt',\n",
       " 'https://raw.githubusercontent.com/ironhack-datalabs/scavenger/9308ccc8a4c34c5e3a991ee815222a9691c32476/55417/.0023.scavengerhunt',\n",
       " 'https://raw.githubusercontent.com/ironhack-datalabs/scavenger/9308ccc8a4c34c5e3a991ee815222a9691c32476/47222/.0024.scavengerhunt']"
      ]
     },
     "execution_count": 155,
     "metadata": {},
     "output_type": "execute_result"
    }
   ],
   "source": [
    "downloads = list()\n",
    "for url in file_text_sorted.values():\n",
    "    text = requests.get (url =  url, params = parameters).json()\n",
    "    downloads.append(text['download_url'])\n",
    "downloads"
   ]
  },
  {
   "cell_type": "code",
   "execution_count": 156,
   "metadata": {},
   "outputs": [
    {
     "data": {
      "text/plain": [
       "\"b'In\\\\n' b'data\\\\n' b'science,\\\\n' b'80\\\\n' b'percent\\\\n' b'of\\\\n' b'time\\\\n' b'spent\\\\n' b'is\\\\n' b'preparing\\\\n' b'data,\\\\n' b'20\\\\n' b'percent\\\\n' b'of\\\\n' b'time\\\\n' b'is\\\\n' b'spent\\\\n' b'complaining\\\\n' b'about\\\\n' b'the\\\\n' b'need\\\\n' b'to\\\\n' b'prepare\\\\n' b'data.\\\\n' \""
      ]
     },
     "execution_count": 156,
     "metadata": {},
     "output_type": "execute_result"
    }
   ],
   "source": [
    "joke = \"\"\n",
    "for url in downloads:\n",
    "    text = requests.get (url =  url, params = parameters)\n",
    "    joke = joke + str(text.content) + \" \"\n",
    "joke"
   ]
  },
  {
   "cell_type": "code",
   "execution_count": 157,
   "metadata": {},
   "outputs": [
    {
     "data": {
      "text/plain": [
       "'In data science 80 percent of time spent is preparing data 20 percent of time is spent complaining about the need to prepare data'"
      ]
     },
     "execution_count": 157,
     "metadata": {},
     "output_type": "execute_result"
    }
   ],
   "source": [
    "import re\n",
    "pattern = r\"\\w{2,}\"\n",
    "joke_1 = re.findall(pattern,joke)\n",
    "\" \".join(joke_1)"
   ]
  },
  {
   "cell_type": "code",
   "execution_count": null,
   "metadata": {},
   "outputs": [],
   "source": []
  },
  {
   "cell_type": "code",
   "execution_count": null,
   "metadata": {},
   "outputs": [],
   "source": []
  }
 ],
 "metadata": {
  "kernelspec": {
   "display_name": "Python 3",
   "language": "python",
   "name": "python3"
  },
  "language_info": {
   "codemirror_mode": {
    "name": "ipython",
    "version": 3
   },
   "file_extension": ".py",
   "mimetype": "text/x-python",
   "name": "python",
   "nbconvert_exporter": "python",
   "pygments_lexer": "ipython3",
   "version": "3.8.5"
  },
  "toc": {
   "base_numbering": 1,
   "nav_menu": {},
   "number_sections": true,
   "sideBar": true,
   "skip_h1_title": true,
   "title_cell": "Table of Contents",
   "title_sidebar": "Contents",
   "toc_cell": false,
   "toc_position": {},
   "toc_section_display": true,
   "toc_window_display": true
  }
 },
 "nbformat": 4,
 "nbformat_minor": 5
}
