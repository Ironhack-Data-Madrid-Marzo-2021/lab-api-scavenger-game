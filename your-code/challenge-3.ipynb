{
 "cells": [
  {
   "cell_type": "markdown",
   "id": "defensive-clock",
   "metadata": {},
   "source": [
    "# Challenge 3: Hidden Cold Joke\n",
    "\n",
    "Using Python, call Github API to find out the cold joke contained in the 24 secret files in the following repo:\n",
    "\n",
    "https://github.com/ironhack-datalabs/scavenger\n",
    "\n",
    "The filenames of the secret files contain .scavengerhunt and they are scattered in different directories of this repo. The secret files are named from .0001.scavengerhunt to .0024.scavengerhunt. They are scattered randomly throughout this repo. You need to search for these files by calling the Github API, not searching the local files on your computer.\n",
    "\n",
    "\n",
    "After you find out the secrete files:\n",
    "\n",
    "Sort the filenames ascendingly.\n",
    "\n",
    "Read the content of each secret files into an array of strings.\n",
    "\n",
    "Concatenate the strings in the array separating each two with a whitespace.\n",
    "\n",
    "Print out the joke."
   ]
  },
  {
   "cell_type": "markdown",
   "id": "universal-length",
   "metadata": {},
   "source": [
    "⚠️ **Remember to limit your output before submission**."
   ]
  },
  {
   "cell_type": "code",
   "execution_count": 75,
   "id": "toxic-trading",
   "metadata": {},
   "outputs": [],
   "source": [
    "import os\n",
    "from dotenv import load_dotenv\n",
    "load_dotenv()\n",
    "import json\n",
    "import requests\n",
    "token=os.getenv(\"token\")\n",
    "url_='https://api.github.com/repos/ironhack-datalabs/scavenger/git/trees/0d82bf748275dbc1239a11e9157b198d88da7383?recursive=1'\n",
    "    \n",
    "params_ = {'Authorization':f\"token {token}\"}\n"
   ]
  },
  {
   "cell_type": "code",
   "execution_count": 76,
   "id": "taken-nevada",
   "metadata": {
    "scrolled": false
   },
   "outputs": [],
   "source": [
    "respuesta = requests.get(url = url_, params = params_).json()\n"
   ]
  },
  {
   "cell_type": "code",
   "execution_count": null,
   "id": "bulgarian-millennium",
   "metadata": {
    "scrolled": true
   },
   "outputs": [],
   "source": [
    "respuesta"
   ]
  },
  {
   "cell_type": "code",
   "execution_count": null,
   "id": "vocal-trunk",
   "metadata": {},
   "outputs": [],
   "source": [
    "import re\n",
    "def path_archivo(string):\n",
    "    pattern=r\"([0-9]{5})\\/(\\.[0-9]{4})\"\n",
    "    return re.search(pattern,string)"
   ]
  },
  {
   "cell_type": "code",
   "execution_count": 169,
   "id": "solved-clark",
   "metadata": {},
   "outputs": [
    {
     "name": "stdout",
     "output_type": "stream",
     "text": [
      "In\n",
      "data\n",
      "science,\n",
      "80\n",
      "percent\n",
      "of\n",
      "time\n",
      "spent\n",
      "is\n",
      "preparing\n",
      "data,\n",
      "20\n",
      "percent\n",
      "of\n",
      "time\n",
      "is\n",
      "spent\n",
      "complaining\n",
      "about\n",
      "the\n",
      "need\n",
      "to\n",
      "prepare\n",
      "data.\n",
      "\n"
     ]
    }
   ],
   "source": [
    "archivos=[]\n",
    "for elemento in respuesta['tree']:\n",
    "    cadena=elemento['path']\n",
    "    path=path_archivo(cadena)\n",
    "    if path!=None:\n",
    "        archivos.append([path.group(2),path.group(1)])\n",
    "        \n",
    "archivos.sort()\n",
    "from urllib.request import urlopen\n",
    "\n",
    "mensaje=[]\n",
    "for a in archivos:\n",
    "    url=('https://raw.githubusercontent.com/ironhack-datalabs/scavenger/master/'+a[1]+'/'+a[0]+'.scavengerhunt')\n",
    "    response = urlopen(url)\n",
    "    html_response = response.read()\n",
    "    encoding = response.headers.get_content_charset('utf-8')\n",
    "    decoded_html = html_response.decode(encoding)\n",
    "    mensaje.append(decoded_html)\n",
    "print(''.join(mensaje))"
   ]
  },
  {
   "cell_type": "code",
   "execution_count": null,
   "id": "paperback-roulette",
   "metadata": {},
   "outputs": [],
   "source": []
  }
 ],
 "metadata": {
  "kernelspec": {
   "display_name": "Python 3",
   "language": "python",
   "name": "python3"
  },
  "language_info": {
   "codemirror_mode": {
    "name": "ipython",
    "version": 3
   },
   "file_extension": ".py",
   "mimetype": "text/x-python",
   "name": "python",
   "nbconvert_exporter": "python",
   "pygments_lexer": "ipython3",
   "version": "3.8.5"
  },
  "toc": {
   "base_numbering": 1,
   "nav_menu": {},
   "number_sections": true,
   "sideBar": true,
   "skip_h1_title": true,
   "title_cell": "Table of Contents",
   "title_sidebar": "Contents",
   "toc_cell": false,
   "toc_position": {},
   "toc_section_display": true,
   "toc_window_display": true
  }
 },
 "nbformat": 4,
 "nbformat_minor": 5
}
